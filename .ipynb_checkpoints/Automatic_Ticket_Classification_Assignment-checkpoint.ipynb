{
 "cells": [
  {
   "cell_type": "markdown",
   "metadata": {
    "id": "rhR-ZUkwJrFn"
   },
   "source": [
    "## Problem Statement \n",
    "\n",
    "You need to build a model that is able to classify customer complaints based on the products/services. By doing so, you can segregate these tickets into their relevant categories and, therefore, help in the quick resolution of the issue.\n",
    "\n",
    "You will be doing topic modelling on the <b>.json</b> data provided by the company. Since this data is not labelled, you need to apply NMF to analyse patterns and classify tickets into the following five clusters based on their products/services:\n",
    "\n",
    "* Credit card / Prepaid card\n",
    "\n",
    "* Bank account services\n",
    "\n",
    "* Theft/Dispute reporting\n",
    "\n",
    "* Mortgages/loans\n",
    "\n",
    "* Others \n",
    "\n",
    "\n",
    "With the help of topic modelling, you will be able to map each ticket onto its respective department/category. You can then use this data to train any supervised model such as logistic regression, decision tree or random forest. Using this trained model, you can classify any new customer complaint support ticket into its relevant department."
   ]
  },
  {
   "cell_type": "markdown",
   "metadata": {
    "id": "mcgXVNyaLUFS"
   },
   "source": [
    "## Pipelines that needs to be performed:\n",
    "\n",
    "You need to perform the following eight major tasks to complete the assignment:\n",
    "\n",
    "1.  Data loading\n",
    "\n",
    "2. Text preprocessing\n",
    "\n",
    "3. Exploratory data analysis (EDA)\n",
    "\n",
    "4. Feature extraction\n",
    "\n",
    "5. Topic modelling \n",
    "\n",
    "6. Model building using supervised learning\n",
    "\n",
    "7. Model training and evaluation\n",
    "\n",
    "8. Model inference"
   ]
  },
  {
   "cell_type": "markdown",
   "metadata": {
    "id": "JuLFIymAL58u"
   },
   "source": [
    "## Importing the necessary libraries"
   ]
  },
  {
   "cell_type": "code",
   "execution_count": 1,
   "metadata": {
    "id": "O-Q9pqrcJrFr"
   },
   "outputs": [],
   "source": [
    "import json \n",
    "import numpy as np\n",
    "import pandas as pd\n",
    "import re, nltk, spacy, string\n",
    "import en_core_web_sm\n",
    "nlp = en_core_web_sm.load()\n",
    "import seaborn as sns\n",
    "import matplotlib.pyplot as plt\n",
    "%matplotlib inline\n",
    "\n",
    "from plotly.offline import plot\n",
    "import plotly.graph_objects as go\n",
    "import plotly.express as px\n",
    "\n",
    "from sklearn.feature_extraction.text import CountVectorizer, TfidfVectorizer, TfidfTransformer\n",
    "from pprint import pprint\n",
    "import string\n",
    "\n",
    "from sklearn.model_selection import train_test_split\n",
    "from sklearn.linear_model import LogisticRegression\n",
    "from sklearn.tree import DecisionTreeClassifier\n",
    "from sklearn.ensemble import RandomForestClassifier\n",
    "from sklearn.metrics import roc_auc_score\n",
    "from sklearn.metrics import accuracy_score\n",
    "from sklearn.metrics import precision_score\n",
    "from sklearn.metrics import recall_score\n",
    "from sklearn.experimental import enable_halving_search_cv\n",
    "from sklearn.model_selection import GridSearchCV,HalvingRandomSearchCV\n",
    "\n",
    "import warnings\n",
    "warnings.filterwarnings('ignore')\n",
    "\n",
    "nlp = spacy.load('en_core_web_sm')"
   ]
  },
  {
   "cell_type": "markdown",
   "metadata": {
    "id": "KtRLCsNVJrFt"
   },
   "source": [
    "## Loading the data\n",
    "\n",
    "The data is in JSON format and we need to convert it to a dataframe."
   ]
  },
  {
   "cell_type": "code",
   "execution_count": 2,
   "metadata": {
    "id": "puVzIf_iJrFt"
   },
   "outputs": [
    {
     "data": {
      "text/html": [
       "<div>\n",
       "<style scoped>\n",
       "    .dataframe tbody tr th:only-of-type {\n",
       "        vertical-align: middle;\n",
       "    }\n",
       "\n",
       "    .dataframe tbody tr th {\n",
       "        vertical-align: top;\n",
       "    }\n",
       "\n",
       "    .dataframe thead th {\n",
       "        text-align: right;\n",
       "    }\n",
       "</style>\n",
       "<table border=\"1\" class=\"dataframe\">\n",
       "  <thead>\n",
       "    <tr style=\"text-align: right;\">\n",
       "      <th></th>\n",
       "      <th>_index</th>\n",
       "      <th>_type</th>\n",
       "      <th>_id</th>\n",
       "      <th>_score</th>\n",
       "      <th>_source.tags</th>\n",
       "      <th>_source.zip_code</th>\n",
       "      <th>_source.complaint_id</th>\n",
       "      <th>_source.issue</th>\n",
       "      <th>_source.date_received</th>\n",
       "      <th>_source.state</th>\n",
       "      <th>...</th>\n",
       "      <th>_source.company_response</th>\n",
       "      <th>_source.company</th>\n",
       "      <th>_source.submitted_via</th>\n",
       "      <th>_source.date_sent_to_company</th>\n",
       "      <th>_source.company_public_response</th>\n",
       "      <th>_source.sub_product</th>\n",
       "      <th>_source.timely</th>\n",
       "      <th>_source.complaint_what_happened</th>\n",
       "      <th>_source.sub_issue</th>\n",
       "      <th>_source.consumer_consent_provided</th>\n",
       "    </tr>\n",
       "  </thead>\n",
       "  <tbody>\n",
       "    <tr>\n",
       "      <th>0</th>\n",
       "      <td>complaint-public-v2</td>\n",
       "      <td>complaint</td>\n",
       "      <td>3211475</td>\n",
       "      <td>0.0</td>\n",
       "      <td>None</td>\n",
       "      <td>90301</td>\n",
       "      <td>3211475</td>\n",
       "      <td>Attempts to collect debt not owed</td>\n",
       "      <td>2019-04-13T12:00:00-05:00</td>\n",
       "      <td>CA</td>\n",
       "      <td>...</td>\n",
       "      <td>Closed with explanation</td>\n",
       "      <td>JPMORGAN CHASE &amp; CO.</td>\n",
       "      <td>Web</td>\n",
       "      <td>2019-04-13T12:00:00-05:00</td>\n",
       "      <td>None</td>\n",
       "      <td>Credit card debt</td>\n",
       "      <td>Yes</td>\n",
       "      <td></td>\n",
       "      <td>Debt is not yours</td>\n",
       "      <td>Consent not provided</td>\n",
       "    </tr>\n",
       "    <tr>\n",
       "      <th>1</th>\n",
       "      <td>complaint-public-v2</td>\n",
       "      <td>complaint</td>\n",
       "      <td>3229299</td>\n",
       "      <td>0.0</td>\n",
       "      <td>Servicemember</td>\n",
       "      <td>319XX</td>\n",
       "      <td>3229299</td>\n",
       "      <td>Written notification about debt</td>\n",
       "      <td>2019-05-01T12:00:00-05:00</td>\n",
       "      <td>GA</td>\n",
       "      <td>...</td>\n",
       "      <td>Closed with explanation</td>\n",
       "      <td>JPMORGAN CHASE &amp; CO.</td>\n",
       "      <td>Web</td>\n",
       "      <td>2019-05-01T12:00:00-05:00</td>\n",
       "      <td>None</td>\n",
       "      <td>Credit card debt</td>\n",
       "      <td>Yes</td>\n",
       "      <td>Good morning my name is XXXX XXXX and I apprec...</td>\n",
       "      <td>Didn't receive enough information to verify debt</td>\n",
       "      <td>Consent provided</td>\n",
       "    </tr>\n",
       "    <tr>\n",
       "      <th>2</th>\n",
       "      <td>complaint-public-v2</td>\n",
       "      <td>complaint</td>\n",
       "      <td>3199379</td>\n",
       "      <td>0.0</td>\n",
       "      <td>None</td>\n",
       "      <td>77069</td>\n",
       "      <td>3199379</td>\n",
       "      <td>Other features, terms, or problems</td>\n",
       "      <td>2019-04-02T12:00:00-05:00</td>\n",
       "      <td>TX</td>\n",
       "      <td>...</td>\n",
       "      <td>Closed with explanation</td>\n",
       "      <td>JPMORGAN CHASE &amp; CO.</td>\n",
       "      <td>Web</td>\n",
       "      <td>2019-04-02T12:00:00-05:00</td>\n",
       "      <td>None</td>\n",
       "      <td>General-purpose credit card or charge card</td>\n",
       "      <td>Yes</td>\n",
       "      <td>I upgraded my XXXX XXXX card in XX/XX/2018 and...</td>\n",
       "      <td>Problem with rewards from credit card</td>\n",
       "      <td>Consent provided</td>\n",
       "    </tr>\n",
       "    <tr>\n",
       "      <th>3</th>\n",
       "      <td>complaint-public-v2</td>\n",
       "      <td>complaint</td>\n",
       "      <td>2673060</td>\n",
       "      <td>0.0</td>\n",
       "      <td>None</td>\n",
       "      <td>48066</td>\n",
       "      <td>2673060</td>\n",
       "      <td>Trouble during payment process</td>\n",
       "      <td>2017-09-13T12:00:00-05:00</td>\n",
       "      <td>MI</td>\n",
       "      <td>...</td>\n",
       "      <td>Closed with explanation</td>\n",
       "      <td>JPMORGAN CHASE &amp; CO.</td>\n",
       "      <td>Web</td>\n",
       "      <td>2017-09-14T12:00:00-05:00</td>\n",
       "      <td>None</td>\n",
       "      <td>Conventional home mortgage</td>\n",
       "      <td>Yes</td>\n",
       "      <td></td>\n",
       "      <td>None</td>\n",
       "      <td>Consent not provided</td>\n",
       "    </tr>\n",
       "    <tr>\n",
       "      <th>4</th>\n",
       "      <td>complaint-public-v2</td>\n",
       "      <td>complaint</td>\n",
       "      <td>3203545</td>\n",
       "      <td>0.0</td>\n",
       "      <td>None</td>\n",
       "      <td>10473</td>\n",
       "      <td>3203545</td>\n",
       "      <td>Fees or interest</td>\n",
       "      <td>2019-04-05T12:00:00-05:00</td>\n",
       "      <td>NY</td>\n",
       "      <td>...</td>\n",
       "      <td>Closed with explanation</td>\n",
       "      <td>JPMORGAN CHASE &amp; CO.</td>\n",
       "      <td>Referral</td>\n",
       "      <td>2019-04-05T12:00:00-05:00</td>\n",
       "      <td>None</td>\n",
       "      <td>General-purpose credit card or charge card</td>\n",
       "      <td>Yes</td>\n",
       "      <td></td>\n",
       "      <td>Charged too much interest</td>\n",
       "      <td>N/A</td>\n",
       "    </tr>\n",
       "  </tbody>\n",
       "</table>\n",
       "<p>5 rows × 22 columns</p>\n",
       "</div>"
      ],
      "text/plain": [
       "                _index      _type      _id  _score   _source.tags  \\\n",
       "0  complaint-public-v2  complaint  3211475     0.0           None   \n",
       "1  complaint-public-v2  complaint  3229299     0.0  Servicemember   \n",
       "2  complaint-public-v2  complaint  3199379     0.0           None   \n",
       "3  complaint-public-v2  complaint  2673060     0.0           None   \n",
       "4  complaint-public-v2  complaint  3203545     0.0           None   \n",
       "\n",
       "  _source.zip_code _source.complaint_id                       _source.issue  \\\n",
       "0            90301              3211475   Attempts to collect debt not owed   \n",
       "1            319XX              3229299     Written notification about debt   \n",
       "2            77069              3199379  Other features, terms, or problems   \n",
       "3            48066              2673060      Trouble during payment process   \n",
       "4            10473              3203545                    Fees or interest   \n",
       "\n",
       "       _source.date_received _source.state  ... _source.company_response  \\\n",
       "0  2019-04-13T12:00:00-05:00            CA  ...  Closed with explanation   \n",
       "1  2019-05-01T12:00:00-05:00            GA  ...  Closed with explanation   \n",
       "2  2019-04-02T12:00:00-05:00            TX  ...  Closed with explanation   \n",
       "3  2017-09-13T12:00:00-05:00            MI  ...  Closed with explanation   \n",
       "4  2019-04-05T12:00:00-05:00            NY  ...  Closed with explanation   \n",
       "\n",
       "        _source.company _source.submitted_via _source.date_sent_to_company  \\\n",
       "0  JPMORGAN CHASE & CO.                   Web    2019-04-13T12:00:00-05:00   \n",
       "1  JPMORGAN CHASE & CO.                   Web    2019-05-01T12:00:00-05:00   \n",
       "2  JPMORGAN CHASE & CO.                   Web    2019-04-02T12:00:00-05:00   \n",
       "3  JPMORGAN CHASE & CO.                   Web    2017-09-14T12:00:00-05:00   \n",
       "4  JPMORGAN CHASE & CO.              Referral    2019-04-05T12:00:00-05:00   \n",
       "\n",
       "  _source.company_public_response                         _source.sub_product  \\\n",
       "0                            None                            Credit card debt   \n",
       "1                            None                            Credit card debt   \n",
       "2                            None  General-purpose credit card or charge card   \n",
       "3                            None                  Conventional home mortgage   \n",
       "4                            None  General-purpose credit card or charge card   \n",
       "\n",
       "  _source.timely                    _source.complaint_what_happened  \\\n",
       "0            Yes                                                      \n",
       "1            Yes  Good morning my name is XXXX XXXX and I apprec...   \n",
       "2            Yes  I upgraded my XXXX XXXX card in XX/XX/2018 and...   \n",
       "3            Yes                                                      \n",
       "4            Yes                                                      \n",
       "\n",
       "                                  _source.sub_issue  \\\n",
       "0                                 Debt is not yours   \n",
       "1  Didn't receive enough information to verify debt   \n",
       "2             Problem with rewards from credit card   \n",
       "3                                              None   \n",
       "4                         Charged too much interest   \n",
       "\n",
       "  _source.consumer_consent_provided  \n",
       "0              Consent not provided  \n",
       "1                  Consent provided  \n",
       "2                  Consent provided  \n",
       "3              Consent not provided  \n",
       "4                               N/A  \n",
       "\n",
       "[5 rows x 22 columns]"
      ]
     },
     "execution_count": 2,
     "metadata": {},
     "output_type": "execute_result"
    }
   ],
   "source": [
    "# Opening JSON file \n",
    "f = \"complaints-2021-05-14_08_16.json\"# Write the path to your data file and load it \n",
    "  \n",
    "# returns JSON object as  \n",
    "# a dictionary \n",
    "with open(f, \"r\") as content:\n",
    "    data = json.loads(content.read())\n",
    "df=pd.json_normalize(data)\n",
    "df.head()"
   ]
  },
  {
   "cell_type": "markdown",
   "metadata": {
    "id": "_xYpH-sAJrFu"
   },
   "source": [
    "## Data preparation"
   ]
  },
  {
   "cell_type": "code",
   "execution_count": 3,
   "metadata": {
    "id": "Lf8ufHH5JrFu"
   },
   "outputs": [
    {
     "name": "stdout",
     "output_type": "stream",
     "text": [
      "Shape of data = (78313, 22)\n"
     ]
    }
   ],
   "source": [
    "# Inspect the dataframe to understand the given data.\n",
    "\n",
    "print('Shape of data =', df.shape)"
   ]
  },
  {
   "cell_type": "code",
   "execution_count": 4,
   "metadata": {
    "id": "Dwcty-wmJrFw"
   },
   "outputs": [
    {
     "data": {
      "text/plain": [
       "Index(['_index', '_type', '_id', '_score', '_source.tags', '_source.zip_code',\n",
       "       '_source.complaint_id', '_source.issue', '_source.date_received',\n",
       "       '_source.state', '_source.consumer_disputed', '_source.product',\n",
       "       '_source.company_response', '_source.company', '_source.submitted_via',\n",
       "       '_source.date_sent_to_company', '_source.company_public_response',\n",
       "       '_source.sub_product', '_source.timely',\n",
       "       '_source.complaint_what_happened', '_source.sub_issue',\n",
       "       '_source.consumer_consent_provided'],\n",
       "      dtype='object')"
      ]
     },
     "execution_count": 4,
     "metadata": {},
     "output_type": "execute_result"
    }
   ],
   "source": [
    "#print the column names\n",
    "df.columns"
   ]
  },
  {
   "cell_type": "code",
   "execution_count": 5,
   "metadata": {
    "id": "FYCtKXD1JrFw"
   },
   "outputs": [
    {
     "data": {
      "text/plain": [
       "Index(['index', 'type', 'id', 'score', 'tags', 'zip_code', 'complaint_id',\n",
       "       'issue', 'date_received', 'state', 'consumer_disputed', 'product',\n",
       "       'company_response', 'company', 'submitted_via', 'date_sent_to_company',\n",
       "       'company_public_response', 'sub_product', 'timely', 'complaint',\n",
       "       'sub_issue', 'consumer_consent_provided'],\n",
       "      dtype='object')"
      ]
     },
     "execution_count": 5,
     "metadata": {},
     "output_type": "execute_result"
    }
   ],
   "source": [
    "#Assign new column names\n",
    "df.columns = ['index', 'type', 'id', 'score', 'tags', 'zip_code', 'complaint_id', 'issue', 'date_received',\n",
    "       'state', 'consumer_disputed', 'product', 'company_response', 'company', 'submitted_via',\n",
    "       'date_sent_to_company', 'company_public_response', 'sub_product', 'timely',\n",
    "       'complaint', 'sub_issue', 'consumer_consent_provided']\n",
    "df.columns"
   ]
  },
  {
   "cell_type": "code",
   "execution_count": 6,
   "metadata": {
    "id": "grQUPFL5JrFx"
   },
   "outputs": [
    {
     "name": "stdout",
     "output_type": "stream",
     "text": [
      "Number of records with complaint as blanks = 57241\n",
      "After replacing blank with Nan, number of records with complaint as blanks = 0\n"
     ]
    }
   ],
   "source": [
    "#Assign nan in place of blanks in the complaints column\n",
    "print('Number of records with complaint as blanks =',df[df['complaint'] == ''].shape[0])\n",
    "df['complaint'].replace('', np.NaN, inplace=True)\n",
    "print('After replacing blank with Nan, number of records with complaint as blanks =',df[df['complaint'] == ''].shape[0])"
   ]
  },
  {
   "cell_type": "code",
   "execution_count": 7,
   "metadata": {
    "id": "Jfxd8VSmJrFy"
   },
   "outputs": [
    {
     "data": {
      "text/plain": [
       "(21072, 22)"
      ]
     },
     "execution_count": 7,
     "metadata": {},
     "output_type": "execute_result"
    }
   ],
   "source": [
    "#Remove all rows where complaints column is nan\n",
    "df=df[~df['complaint'].isna()]\n",
    "df.shape"
   ]
  },
  {
   "cell_type": "markdown",
   "metadata": {
    "id": "L944HZpsJrFy"
   },
   "source": [
    "## Prepare the text for topic modeling\n",
    "\n",
    "Once you have removed all the blank complaints, you need to:\n",
    "\n",
    "* Make the text lowercase\n",
    "* Remove text in square brackets\n",
    "* Remove punctuation\n",
    "* Remove words containing numbers\n",
    "\n",
    "\n",
    "Once you have done these cleaning operations you need to perform the following:\n",
    "* Lemmatize the texts\n",
    "* Extract the POS tags of the lemmatized text and remove all the words which have tags other than NN[tag == \"NN\"].\n"
   ]
  },
  {
   "cell_type": "code",
   "execution_count": 8,
   "metadata": {
    "id": "qm7SjjSkJrFz"
   },
   "outputs": [],
   "source": [
    "# Write your function here to clean the text and remove all the unnecessary elements.\n",
    "def remove_unnecessary_elements(complaint):\n",
    "    #Lower casing\n",
    "    complaint = complaint.lower()\n",
    "    \n",
    "    #Remove text between square brackets\n",
    "    complaint = re.sub(\"\\[.*?\\]\",\"[]\", complaint)\n",
    "    \n",
    "    #Remove escape sequences\n",
    "    complaint = complaint.translate(str.maketrans('', '', ''.join([chr(i) for i in range(1, 32)])))\n",
    "    \n",
    "    #Remove punctuation marks\n",
    "    complaint = complaint.translate(str.maketrans('', '', string.punctuation))\n",
    "    \n",
    "    #Remove the words with numbers.\n",
    "    complaint = re.sub(\"\\w*\\d+\\w*\",\"\", complaint)\n",
    "    \n",
    "    return complaint"
   ]
  },
  {
   "cell_type": "code",
   "execution_count": 9,
   "metadata": {},
   "outputs": [
    {
     "data": {
      "text/html": [
       "<div>\n",
       "<style scoped>\n",
       "    .dataframe tbody tr th:only-of-type {\n",
       "        vertical-align: middle;\n",
       "    }\n",
       "\n",
       "    .dataframe tbody tr th {\n",
       "        vertical-align: top;\n",
       "    }\n",
       "\n",
       "    .dataframe thead th {\n",
       "        text-align: right;\n",
       "    }\n",
       "</style>\n",
       "<table border=\"1\" class=\"dataframe\">\n",
       "  <thead>\n",
       "    <tr style=\"text-align: right;\">\n",
       "      <th></th>\n",
       "      <th>index</th>\n",
       "      <th>type</th>\n",
       "      <th>id</th>\n",
       "      <th>score</th>\n",
       "      <th>tags</th>\n",
       "      <th>zip_code</th>\n",
       "      <th>complaint_id</th>\n",
       "      <th>issue</th>\n",
       "      <th>date_received</th>\n",
       "      <th>state</th>\n",
       "      <th>...</th>\n",
       "      <th>company_response</th>\n",
       "      <th>company</th>\n",
       "      <th>submitted_via</th>\n",
       "      <th>date_sent_to_company</th>\n",
       "      <th>company_public_response</th>\n",
       "      <th>sub_product</th>\n",
       "      <th>timely</th>\n",
       "      <th>complaint</th>\n",
       "      <th>sub_issue</th>\n",
       "      <th>consumer_consent_provided</th>\n",
       "    </tr>\n",
       "  </thead>\n",
       "  <tbody>\n",
       "    <tr>\n",
       "      <th>1</th>\n",
       "      <td>complaint-public-v2</td>\n",
       "      <td>complaint</td>\n",
       "      <td>3229299</td>\n",
       "      <td>0.0</td>\n",
       "      <td>Servicemember</td>\n",
       "      <td>319XX</td>\n",
       "      <td>3229299</td>\n",
       "      <td>Written notification about debt</td>\n",
       "      <td>2019-05-01T12:00:00-05:00</td>\n",
       "      <td>GA</td>\n",
       "      <td>...</td>\n",
       "      <td>Closed with explanation</td>\n",
       "      <td>JPMORGAN CHASE &amp; CO.</td>\n",
       "      <td>Web</td>\n",
       "      <td>2019-05-01T12:00:00-05:00</td>\n",
       "      <td>None</td>\n",
       "      <td>Credit card debt</td>\n",
       "      <td>Yes</td>\n",
       "      <td>good morning my name is xxxx xxxx and i apprec...</td>\n",
       "      <td>Didn't receive enough information to verify debt</td>\n",
       "      <td>Consent provided</td>\n",
       "    </tr>\n",
       "    <tr>\n",
       "      <th>2</th>\n",
       "      <td>complaint-public-v2</td>\n",
       "      <td>complaint</td>\n",
       "      <td>3199379</td>\n",
       "      <td>0.0</td>\n",
       "      <td>None</td>\n",
       "      <td>77069</td>\n",
       "      <td>3199379</td>\n",
       "      <td>Other features, terms, or problems</td>\n",
       "      <td>2019-04-02T12:00:00-05:00</td>\n",
       "      <td>TX</td>\n",
       "      <td>...</td>\n",
       "      <td>Closed with explanation</td>\n",
       "      <td>JPMORGAN CHASE &amp; CO.</td>\n",
       "      <td>Web</td>\n",
       "      <td>2019-04-02T12:00:00-05:00</td>\n",
       "      <td>None</td>\n",
       "      <td>General-purpose credit card or charge card</td>\n",
       "      <td>Yes</td>\n",
       "      <td>i upgraded my xxxx xxxx card in  and was told ...</td>\n",
       "      <td>Problem with rewards from credit card</td>\n",
       "      <td>Consent provided</td>\n",
       "    </tr>\n",
       "    <tr>\n",
       "      <th>10</th>\n",
       "      <td>complaint-public-v2</td>\n",
       "      <td>complaint</td>\n",
       "      <td>3233499</td>\n",
       "      <td>0.0</td>\n",
       "      <td>None</td>\n",
       "      <td>104XX</td>\n",
       "      <td>3233499</td>\n",
       "      <td>Incorrect information on your report</td>\n",
       "      <td>2019-05-06T12:00:00-05:00</td>\n",
       "      <td>NY</td>\n",
       "      <td>...</td>\n",
       "      <td>Closed with explanation</td>\n",
       "      <td>JPMORGAN CHASE &amp; CO.</td>\n",
       "      <td>Web</td>\n",
       "      <td>2019-05-06T12:00:00-05:00</td>\n",
       "      <td>None</td>\n",
       "      <td>Other personal consumer report</td>\n",
       "      <td>Yes</td>\n",
       "      <td>chase card was reported on  however fraudulent...</td>\n",
       "      <td>Information belongs to someone else</td>\n",
       "      <td>Consent provided</td>\n",
       "    </tr>\n",
       "    <tr>\n",
       "      <th>11</th>\n",
       "      <td>complaint-public-v2</td>\n",
       "      <td>complaint</td>\n",
       "      <td>3180294</td>\n",
       "      <td>0.0</td>\n",
       "      <td>None</td>\n",
       "      <td>750XX</td>\n",
       "      <td>3180294</td>\n",
       "      <td>Incorrect information on your report</td>\n",
       "      <td>2019-03-14T12:00:00-05:00</td>\n",
       "      <td>TX</td>\n",
       "      <td>...</td>\n",
       "      <td>Closed with explanation</td>\n",
       "      <td>JPMORGAN CHASE &amp; CO.</td>\n",
       "      <td>Web</td>\n",
       "      <td>2019-03-15T12:00:00-05:00</td>\n",
       "      <td>None</td>\n",
       "      <td>Credit reporting</td>\n",
       "      <td>Yes</td>\n",
       "      <td>on  while trying to book a xxxx  xxxx  ticket ...</td>\n",
       "      <td>Information belongs to someone else</td>\n",
       "      <td>Consent provided</td>\n",
       "    </tr>\n",
       "    <tr>\n",
       "      <th>14</th>\n",
       "      <td>complaint-public-v2</td>\n",
       "      <td>complaint</td>\n",
       "      <td>3224980</td>\n",
       "      <td>0.0</td>\n",
       "      <td>None</td>\n",
       "      <td>920XX</td>\n",
       "      <td>3224980</td>\n",
       "      <td>Managing an account</td>\n",
       "      <td>2019-04-27T12:00:00-05:00</td>\n",
       "      <td>CA</td>\n",
       "      <td>...</td>\n",
       "      <td>Closed with explanation</td>\n",
       "      <td>JPMORGAN CHASE &amp; CO.</td>\n",
       "      <td>Web</td>\n",
       "      <td>2019-04-27T12:00:00-05:00</td>\n",
       "      <td>None</td>\n",
       "      <td>Checking account</td>\n",
       "      <td>Yes</td>\n",
       "      <td>my grand son give me check for  i deposit it i...</td>\n",
       "      <td>Funds not handled or disbursed as instructed</td>\n",
       "      <td>Consent provided</td>\n",
       "    </tr>\n",
       "  </tbody>\n",
       "</table>\n",
       "<p>5 rows × 22 columns</p>\n",
       "</div>"
      ],
      "text/plain": [
       "                  index       type       id  score           tags zip_code  \\\n",
       "1   complaint-public-v2  complaint  3229299    0.0  Servicemember    319XX   \n",
       "2   complaint-public-v2  complaint  3199379    0.0           None    77069   \n",
       "10  complaint-public-v2  complaint  3233499    0.0           None    104XX   \n",
       "11  complaint-public-v2  complaint  3180294    0.0           None    750XX   \n",
       "14  complaint-public-v2  complaint  3224980    0.0           None    920XX   \n",
       "\n",
       "   complaint_id                                 issue  \\\n",
       "1       3229299       Written notification about debt   \n",
       "2       3199379    Other features, terms, or problems   \n",
       "10      3233499  Incorrect information on your report   \n",
       "11      3180294  Incorrect information on your report   \n",
       "14      3224980                   Managing an account   \n",
       "\n",
       "                date_received state  ...         company_response  \\\n",
       "1   2019-05-01T12:00:00-05:00    GA  ...  Closed with explanation   \n",
       "2   2019-04-02T12:00:00-05:00    TX  ...  Closed with explanation   \n",
       "10  2019-05-06T12:00:00-05:00    NY  ...  Closed with explanation   \n",
       "11  2019-03-14T12:00:00-05:00    TX  ...  Closed with explanation   \n",
       "14  2019-04-27T12:00:00-05:00    CA  ...  Closed with explanation   \n",
       "\n",
       "                 company submitted_via       date_sent_to_company  \\\n",
       "1   JPMORGAN CHASE & CO.           Web  2019-05-01T12:00:00-05:00   \n",
       "2   JPMORGAN CHASE & CO.           Web  2019-04-02T12:00:00-05:00   \n",
       "10  JPMORGAN CHASE & CO.           Web  2019-05-06T12:00:00-05:00   \n",
       "11  JPMORGAN CHASE & CO.           Web  2019-03-15T12:00:00-05:00   \n",
       "14  JPMORGAN CHASE & CO.           Web  2019-04-27T12:00:00-05:00   \n",
       "\n",
       "   company_public_response                                 sub_product timely  \\\n",
       "1                     None                            Credit card debt    Yes   \n",
       "2                     None  General-purpose credit card or charge card    Yes   \n",
       "10                    None              Other personal consumer report    Yes   \n",
       "11                    None                            Credit reporting    Yes   \n",
       "14                    None                            Checking account    Yes   \n",
       "\n",
       "                                            complaint  \\\n",
       "1   good morning my name is xxxx xxxx and i apprec...   \n",
       "2   i upgraded my xxxx xxxx card in  and was told ...   \n",
       "10  chase card was reported on  however fraudulent...   \n",
       "11  on  while trying to book a xxxx  xxxx  ticket ...   \n",
       "14  my grand son give me check for  i deposit it i...   \n",
       "\n",
       "                                           sub_issue consumer_consent_provided  \n",
       "1   Didn't receive enough information to verify debt          Consent provided  \n",
       "2              Problem with rewards from credit card          Consent provided  \n",
       "10               Information belongs to someone else          Consent provided  \n",
       "11               Information belongs to someone else          Consent provided  \n",
       "14      Funds not handled or disbursed as instructed          Consent provided  \n",
       "\n",
       "[5 rows x 22 columns]"
      ]
     },
     "execution_count": 9,
     "metadata": {},
     "output_type": "execute_result"
    }
   ],
   "source": [
    "df['complaint'] = df['complaint'].apply(lambda comp: remove_unnecessary_elements(comp))\n",
    "df.head()"
   ]
  },
  {
   "cell_type": "code",
   "execution_count": 10,
   "metadata": {
    "id": "zgOu8t8HJrFz"
   },
   "outputs": [],
   "source": [
    "#Write your function to Lemmatize the texts\n",
    "def lemmatize_text(complaint):\n",
    "    tokens = nlp(complaint)\n",
    "    return ' '.join([token.lemma_ for token in tokens])"
   ]
  },
  {
   "cell_type": "code",
   "execution_count": 11,
   "metadata": {},
   "outputs": [],
   "source": [
    "df['complaint_lemmatized'] = df['complaint'].apply(lambda comp: lemmatize_text(comp))"
   ]
  },
  {
   "cell_type": "code",
   "execution_count": 12,
   "metadata": {},
   "outputs": [
    {
     "data": {
      "text/html": [
       "<div>\n",
       "<style scoped>\n",
       "    .dataframe tbody tr th:only-of-type {\n",
       "        vertical-align: middle;\n",
       "    }\n",
       "\n",
       "    .dataframe tbody tr th {\n",
       "        vertical-align: top;\n",
       "    }\n",
       "\n",
       "    .dataframe thead th {\n",
       "        text-align: right;\n",
       "    }\n",
       "</style>\n",
       "<table border=\"1\" class=\"dataframe\">\n",
       "  <thead>\n",
       "    <tr style=\"text-align: right;\">\n",
       "      <th></th>\n",
       "      <th>index</th>\n",
       "      <th>type</th>\n",
       "      <th>id</th>\n",
       "      <th>score</th>\n",
       "      <th>tags</th>\n",
       "      <th>zip_code</th>\n",
       "      <th>complaint_id</th>\n",
       "      <th>issue</th>\n",
       "      <th>date_received</th>\n",
       "      <th>state</th>\n",
       "      <th>...</th>\n",
       "      <th>company</th>\n",
       "      <th>submitted_via</th>\n",
       "      <th>date_sent_to_company</th>\n",
       "      <th>company_public_response</th>\n",
       "      <th>sub_product</th>\n",
       "      <th>timely</th>\n",
       "      <th>complaint</th>\n",
       "      <th>sub_issue</th>\n",
       "      <th>consumer_consent_provided</th>\n",
       "      <th>complaint_lemmatized</th>\n",
       "    </tr>\n",
       "  </thead>\n",
       "  <tbody>\n",
       "    <tr>\n",
       "      <th>1</th>\n",
       "      <td>complaint-public-v2</td>\n",
       "      <td>complaint</td>\n",
       "      <td>3229299</td>\n",
       "      <td>0.0</td>\n",
       "      <td>Servicemember</td>\n",
       "      <td>319XX</td>\n",
       "      <td>3229299</td>\n",
       "      <td>Written notification about debt</td>\n",
       "      <td>2019-05-01T12:00:00-05:00</td>\n",
       "      <td>GA</td>\n",
       "      <td>...</td>\n",
       "      <td>JPMORGAN CHASE &amp; CO.</td>\n",
       "      <td>Web</td>\n",
       "      <td>2019-05-01T12:00:00-05:00</td>\n",
       "      <td>None</td>\n",
       "      <td>Credit card debt</td>\n",
       "      <td>Yes</td>\n",
       "      <td>good morning my name is xxxx xxxx and i apprec...</td>\n",
       "      <td>Didn't receive enough information to verify debt</td>\n",
       "      <td>Consent provided</td>\n",
       "      <td>good morning my name be xxxx xxxx and I apprec...</td>\n",
       "    </tr>\n",
       "    <tr>\n",
       "      <th>2</th>\n",
       "      <td>complaint-public-v2</td>\n",
       "      <td>complaint</td>\n",
       "      <td>3199379</td>\n",
       "      <td>0.0</td>\n",
       "      <td>None</td>\n",
       "      <td>77069</td>\n",
       "      <td>3199379</td>\n",
       "      <td>Other features, terms, or problems</td>\n",
       "      <td>2019-04-02T12:00:00-05:00</td>\n",
       "      <td>TX</td>\n",
       "      <td>...</td>\n",
       "      <td>JPMORGAN CHASE &amp; CO.</td>\n",
       "      <td>Web</td>\n",
       "      <td>2019-04-02T12:00:00-05:00</td>\n",
       "      <td>None</td>\n",
       "      <td>General-purpose credit card or charge card</td>\n",
       "      <td>Yes</td>\n",
       "      <td>i upgraded my xxxx xxxx card in  and was told ...</td>\n",
       "      <td>Problem with rewards from credit card</td>\n",
       "      <td>Consent provided</td>\n",
       "      <td>I upgrade my xxxx xxxx card in   and be tell b...</td>\n",
       "    </tr>\n",
       "    <tr>\n",
       "      <th>10</th>\n",
       "      <td>complaint-public-v2</td>\n",
       "      <td>complaint</td>\n",
       "      <td>3233499</td>\n",
       "      <td>0.0</td>\n",
       "      <td>None</td>\n",
       "      <td>104XX</td>\n",
       "      <td>3233499</td>\n",
       "      <td>Incorrect information on your report</td>\n",
       "      <td>2019-05-06T12:00:00-05:00</td>\n",
       "      <td>NY</td>\n",
       "      <td>...</td>\n",
       "      <td>JPMORGAN CHASE &amp; CO.</td>\n",
       "      <td>Web</td>\n",
       "      <td>2019-05-06T12:00:00-05:00</td>\n",
       "      <td>None</td>\n",
       "      <td>Other personal consumer report</td>\n",
       "      <td>Yes</td>\n",
       "      <td>chase card was reported on  however fraudulent...</td>\n",
       "      <td>Information belongs to someone else</td>\n",
       "      <td>Consent provided</td>\n",
       "      <td>chase card be report on   however fraudulent a...</td>\n",
       "    </tr>\n",
       "    <tr>\n",
       "      <th>11</th>\n",
       "      <td>complaint-public-v2</td>\n",
       "      <td>complaint</td>\n",
       "      <td>3180294</td>\n",
       "      <td>0.0</td>\n",
       "      <td>None</td>\n",
       "      <td>750XX</td>\n",
       "      <td>3180294</td>\n",
       "      <td>Incorrect information on your report</td>\n",
       "      <td>2019-03-14T12:00:00-05:00</td>\n",
       "      <td>TX</td>\n",
       "      <td>...</td>\n",
       "      <td>JPMORGAN CHASE &amp; CO.</td>\n",
       "      <td>Web</td>\n",
       "      <td>2019-03-15T12:00:00-05:00</td>\n",
       "      <td>None</td>\n",
       "      <td>Credit reporting</td>\n",
       "      <td>Yes</td>\n",
       "      <td>on  while trying to book a xxxx  xxxx  ticket ...</td>\n",
       "      <td>Information belongs to someone else</td>\n",
       "      <td>Consent provided</td>\n",
       "      <td>on   while try to book a xxxx   xxxx   ticket ...</td>\n",
       "    </tr>\n",
       "    <tr>\n",
       "      <th>14</th>\n",
       "      <td>complaint-public-v2</td>\n",
       "      <td>complaint</td>\n",
       "      <td>3224980</td>\n",
       "      <td>0.0</td>\n",
       "      <td>None</td>\n",
       "      <td>920XX</td>\n",
       "      <td>3224980</td>\n",
       "      <td>Managing an account</td>\n",
       "      <td>2019-04-27T12:00:00-05:00</td>\n",
       "      <td>CA</td>\n",
       "      <td>...</td>\n",
       "      <td>JPMORGAN CHASE &amp; CO.</td>\n",
       "      <td>Web</td>\n",
       "      <td>2019-04-27T12:00:00-05:00</td>\n",
       "      <td>None</td>\n",
       "      <td>Checking account</td>\n",
       "      <td>Yes</td>\n",
       "      <td>my grand son give me check for  i deposit it i...</td>\n",
       "      <td>Funds not handled or disbursed as instructed</td>\n",
       "      <td>Consent provided</td>\n",
       "      <td>my grand son give I check for   I deposit it i...</td>\n",
       "    </tr>\n",
       "  </tbody>\n",
       "</table>\n",
       "<p>5 rows × 23 columns</p>\n",
       "</div>"
      ],
      "text/plain": [
       "                  index       type       id  score           tags zip_code  \\\n",
       "1   complaint-public-v2  complaint  3229299    0.0  Servicemember    319XX   \n",
       "2   complaint-public-v2  complaint  3199379    0.0           None    77069   \n",
       "10  complaint-public-v2  complaint  3233499    0.0           None    104XX   \n",
       "11  complaint-public-v2  complaint  3180294    0.0           None    750XX   \n",
       "14  complaint-public-v2  complaint  3224980    0.0           None    920XX   \n",
       "\n",
       "   complaint_id                                 issue  \\\n",
       "1       3229299       Written notification about debt   \n",
       "2       3199379    Other features, terms, or problems   \n",
       "10      3233499  Incorrect information on your report   \n",
       "11      3180294  Incorrect information on your report   \n",
       "14      3224980                   Managing an account   \n",
       "\n",
       "                date_received state  ...               company submitted_via  \\\n",
       "1   2019-05-01T12:00:00-05:00    GA  ...  JPMORGAN CHASE & CO.           Web   \n",
       "2   2019-04-02T12:00:00-05:00    TX  ...  JPMORGAN CHASE & CO.           Web   \n",
       "10  2019-05-06T12:00:00-05:00    NY  ...  JPMORGAN CHASE & CO.           Web   \n",
       "11  2019-03-14T12:00:00-05:00    TX  ...  JPMORGAN CHASE & CO.           Web   \n",
       "14  2019-04-27T12:00:00-05:00    CA  ...  JPMORGAN CHASE & CO.           Web   \n",
       "\n",
       "         date_sent_to_company company_public_response  \\\n",
       "1   2019-05-01T12:00:00-05:00                    None   \n",
       "2   2019-04-02T12:00:00-05:00                    None   \n",
       "10  2019-05-06T12:00:00-05:00                    None   \n",
       "11  2019-03-15T12:00:00-05:00                    None   \n",
       "14  2019-04-27T12:00:00-05:00                    None   \n",
       "\n",
       "                                   sub_product timely  \\\n",
       "1                             Credit card debt    Yes   \n",
       "2   General-purpose credit card or charge card    Yes   \n",
       "10              Other personal consumer report    Yes   \n",
       "11                            Credit reporting    Yes   \n",
       "14                            Checking account    Yes   \n",
       "\n",
       "                                            complaint  \\\n",
       "1   good morning my name is xxxx xxxx and i apprec...   \n",
       "2   i upgraded my xxxx xxxx card in  and was told ...   \n",
       "10  chase card was reported on  however fraudulent...   \n",
       "11  on  while trying to book a xxxx  xxxx  ticket ...   \n",
       "14  my grand son give me check for  i deposit it i...   \n",
       "\n",
       "                                           sub_issue  \\\n",
       "1   Didn't receive enough information to verify debt   \n",
       "2              Problem with rewards from credit card   \n",
       "10               Information belongs to someone else   \n",
       "11               Information belongs to someone else   \n",
       "14      Funds not handled or disbursed as instructed   \n",
       "\n",
       "   consumer_consent_provided  \\\n",
       "1           Consent provided   \n",
       "2           Consent provided   \n",
       "10          Consent provided   \n",
       "11          Consent provided   \n",
       "14          Consent provided   \n",
       "\n",
       "                                 complaint_lemmatized  \n",
       "1   good morning my name be xxxx xxxx and I apprec...  \n",
       "2   I upgrade my xxxx xxxx card in   and be tell b...  \n",
       "10  chase card be report on   however fraudulent a...  \n",
       "11  on   while try to book a xxxx   xxxx   ticket ...  \n",
       "14  my grand son give I check for   I deposit it i...  \n",
       "\n",
       "[5 rows x 23 columns]"
      ]
     },
     "execution_count": 12,
     "metadata": {},
     "output_type": "execute_result"
    }
   ],
   "source": [
    "df.head()"
   ]
  },
  {
   "cell_type": "code",
   "execution_count": 13,
   "metadata": {
    "id": "uXnN7aa_JrF0"
   },
   "outputs": [],
   "source": [
    "#Create a dataframe('df_clean') that will have only the complaints and the lemmatized complaints \n",
    "df_clean = df[['complaint', 'complaint_lemmatized']]"
   ]
  },
  {
   "cell_type": "code",
   "execution_count": 14,
   "metadata": {
    "id": "nOiDVvEIJrF0"
   },
   "outputs": [
    {
     "data": {
      "text/html": [
       "<div>\n",
       "<style scoped>\n",
       "    .dataframe tbody tr th:only-of-type {\n",
       "        vertical-align: middle;\n",
       "    }\n",
       "\n",
       "    .dataframe tbody tr th {\n",
       "        vertical-align: top;\n",
       "    }\n",
       "\n",
       "    .dataframe thead th {\n",
       "        text-align: right;\n",
       "    }\n",
       "</style>\n",
       "<table border=\"1\" class=\"dataframe\">\n",
       "  <thead>\n",
       "    <tr style=\"text-align: right;\">\n",
       "      <th></th>\n",
       "      <th>complaint</th>\n",
       "      <th>complaint_lemmatized</th>\n",
       "    </tr>\n",
       "  </thead>\n",
       "  <tbody>\n",
       "    <tr>\n",
       "      <th>1</th>\n",
       "      <td>good morning my name is xxxx xxxx and i apprec...</td>\n",
       "      <td>good morning my name be xxxx xxxx and I apprec...</td>\n",
       "    </tr>\n",
       "    <tr>\n",
       "      <th>2</th>\n",
       "      <td>i upgraded my xxxx xxxx card in  and was told ...</td>\n",
       "      <td>I upgrade my xxxx xxxx card in   and be tell b...</td>\n",
       "    </tr>\n",
       "    <tr>\n",
       "      <th>10</th>\n",
       "      <td>chase card was reported on  however fraudulent...</td>\n",
       "      <td>chase card be report on   however fraudulent a...</td>\n",
       "    </tr>\n",
       "    <tr>\n",
       "      <th>11</th>\n",
       "      <td>on  while trying to book a xxxx  xxxx  ticket ...</td>\n",
       "      <td>on   while try to book a xxxx   xxxx   ticket ...</td>\n",
       "    </tr>\n",
       "    <tr>\n",
       "      <th>14</th>\n",
       "      <td>my grand son give me check for  i deposit it i...</td>\n",
       "      <td>my grand son give I check for   I deposit it i...</td>\n",
       "    </tr>\n",
       "    <tr>\n",
       "      <th>...</th>\n",
       "      <td>...</td>\n",
       "      <td>...</td>\n",
       "    </tr>\n",
       "    <tr>\n",
       "      <th>78303</th>\n",
       "      <td>after being a chase card customer for well ove...</td>\n",
       "      <td>after be a chase card customer for well over a...</td>\n",
       "    </tr>\n",
       "    <tr>\n",
       "      <th>78309</th>\n",
       "      <td>on wednesday xxxxxxxx i called chas my xxxx xx...</td>\n",
       "      <td>on wednesday xxxxxxxx I call chas my xxxx xxxx...</td>\n",
       "    </tr>\n",
       "    <tr>\n",
       "      <th>78310</th>\n",
       "      <td>i am not familiar with xxxx pay and did not un...</td>\n",
       "      <td>I be not familiar with xxxx pay and do not und...</td>\n",
       "    </tr>\n",
       "    <tr>\n",
       "      <th>78311</th>\n",
       "      <td>i have had flawless credit for  yrs ive had ch...</td>\n",
       "      <td>I have have flawless credit for   yrs I ve hav...</td>\n",
       "    </tr>\n",
       "    <tr>\n",
       "      <th>78312</th>\n",
       "      <td>roughly  years ago i closed out my accounts wi...</td>\n",
       "      <td>roughly   year ago I close out my account with...</td>\n",
       "    </tr>\n",
       "  </tbody>\n",
       "</table>\n",
       "<p>21072 rows × 2 columns</p>\n",
       "</div>"
      ],
      "text/plain": [
       "                                               complaint  \\\n",
       "1      good morning my name is xxxx xxxx and i apprec...   \n",
       "2      i upgraded my xxxx xxxx card in  and was told ...   \n",
       "10     chase card was reported on  however fraudulent...   \n",
       "11     on  while trying to book a xxxx  xxxx  ticket ...   \n",
       "14     my grand son give me check for  i deposit it i...   \n",
       "...                                                  ...   \n",
       "78303  after being a chase card customer for well ove...   \n",
       "78309  on wednesday xxxxxxxx i called chas my xxxx xx...   \n",
       "78310  i am not familiar with xxxx pay and did not un...   \n",
       "78311  i have had flawless credit for  yrs ive had ch...   \n",
       "78312  roughly  years ago i closed out my accounts wi...   \n",
       "\n",
       "                                    complaint_lemmatized  \n",
       "1      good morning my name be xxxx xxxx and I apprec...  \n",
       "2      I upgrade my xxxx xxxx card in   and be tell b...  \n",
       "10     chase card be report on   however fraudulent a...  \n",
       "11     on   while try to book a xxxx   xxxx   ticket ...  \n",
       "14     my grand son give I check for   I deposit it i...  \n",
       "...                                                  ...  \n",
       "78303  after be a chase card customer for well over a...  \n",
       "78309  on wednesday xxxxxxxx I call chas my xxxx xxxx...  \n",
       "78310  I be not familiar with xxxx pay and do not und...  \n",
       "78311  I have have flawless credit for   yrs I ve hav...  \n",
       "78312  roughly   year ago I close out my account with...  \n",
       "\n",
       "[21072 rows x 2 columns]"
      ]
     },
     "execution_count": 14,
     "metadata": {},
     "output_type": "execute_result"
    }
   ],
   "source": [
    "df_clean"
   ]
  },
  {
   "cell_type": "code",
   "execution_count": 15,
   "metadata": {
    "id": "Kk7fc4DuJrF1"
   },
   "outputs": [],
   "source": [
    "#Write your function to extract the POS tags \n",
    "\n",
    "def pos_tag(text):\n",
    "  # write your code here\n",
    "    tokens = nlp(text)\n",
    "    return ' '.join([token.text for token in tokens if token.tag_ == 'NN'])\n",
    "\n",
    "df_clean[\"complaint_POS_removed\"] =  df['complaint_lemmatized'].apply(lambda comp: pos_tag(comp))\n"
   ]
  },
  {
   "cell_type": "code",
   "execution_count": 16,
   "metadata": {
    "id": "AjxfchvFJrF2"
   },
   "outputs": [
    {
     "data": {
      "text/html": [
       "<div>\n",
       "<style scoped>\n",
       "    .dataframe tbody tr th:only-of-type {\n",
       "        vertical-align: middle;\n",
       "    }\n",
       "\n",
       "    .dataframe tbody tr th {\n",
       "        vertical-align: top;\n",
       "    }\n",
       "\n",
       "    .dataframe thead th {\n",
       "        text-align: right;\n",
       "    }\n",
       "</style>\n",
       "<table border=\"1\" class=\"dataframe\">\n",
       "  <thead>\n",
       "    <tr style=\"text-align: right;\">\n",
       "      <th></th>\n",
       "      <th>complaint</th>\n",
       "      <th>complaint_lemmatized</th>\n",
       "      <th>complaint_POS_removed</th>\n",
       "    </tr>\n",
       "  </thead>\n",
       "  <tbody>\n",
       "    <tr>\n",
       "      <th>1</th>\n",
       "      <td>good morning my name is xxxx xxxx and i apprec...</td>\n",
       "      <td>good morning my name be xxxx xxxx and I apprec...</td>\n",
       "      <td>morning name stop bank cardmember service ask ...</td>\n",
       "    </tr>\n",
       "    <tr>\n",
       "      <th>2</th>\n",
       "      <td>i upgraded my xxxx xxxx card in  and was told ...</td>\n",
       "      <td>I upgrade my xxxx xxxx card in   and be tell b...</td>\n",
       "      <td>xxxx card agent anniversary date agent informa...</td>\n",
       "    </tr>\n",
       "    <tr>\n",
       "      <th>10</th>\n",
       "      <td>chase card was reported on  however fraudulent...</td>\n",
       "      <td>chase card be report on   however fraudulent a...</td>\n",
       "      <td>chase card report application identity consent...</td>\n",
       "    </tr>\n",
       "    <tr>\n",
       "      <th>11</th>\n",
       "      <td>on  while trying to book a xxxx  xxxx  ticket ...</td>\n",
       "      <td>on   while try to book a xxxx   xxxx   ticket ...</td>\n",
       "      <td>xxxx xxxx ticket offer ticket reward card info...</td>\n",
       "    </tr>\n",
       "    <tr>\n",
       "      <th>14</th>\n",
       "      <td>my grand son give me check for  i deposit it i...</td>\n",
       "      <td>my grand son give I check for   I deposit it i...</td>\n",
       "      <td>son chase account fund chase bank account mone...</td>\n",
       "    </tr>\n",
       "    <tr>\n",
       "      <th>...</th>\n",
       "      <td>...</td>\n",
       "      <td>...</td>\n",
       "      <td>...</td>\n",
       "    </tr>\n",
       "    <tr>\n",
       "      <th>78303</th>\n",
       "      <td>after being a chase card customer for well ove...</td>\n",
       "      <td>after be a chase card customer for well over a...</td>\n",
       "      <td>chase card customer decade solicitation credit...</td>\n",
       "    </tr>\n",
       "    <tr>\n",
       "      <th>78309</th>\n",
       "      <td>on wednesday xxxxxxxx i called chas my xxxx xx...</td>\n",
       "      <td>on wednesday xxxxxxxx I call chas my xxxx xxxx...</td>\n",
       "      <td>xxxx credit card provider claim purchase prote...</td>\n",
       "    </tr>\n",
       "    <tr>\n",
       "      <th>78310</th>\n",
       "      <td>i am not familiar with xxxx pay and did not un...</td>\n",
       "      <td>I be not familiar with xxxx pay and do not und...</td>\n",
       "      <td>xxxx risk consumer chase bank app chase year b...</td>\n",
       "    </tr>\n",
       "    <tr>\n",
       "      <th>78311</th>\n",
       "      <td>i have had flawless credit for  yrs ive had ch...</td>\n",
       "      <td>I have have flawless credit for   yrs I ve hav...</td>\n",
       "      <td>credit yrs chase credit card chase freedom pro...</td>\n",
       "    </tr>\n",
       "    <tr>\n",
       "      <th>78312</th>\n",
       "      <td>roughly  years ago i closed out my accounts wi...</td>\n",
       "      <td>roughly   year ago I close out my account with...</td>\n",
       "      <td>year account order line credit account payment...</td>\n",
       "    </tr>\n",
       "  </tbody>\n",
       "</table>\n",
       "<p>21072 rows × 3 columns</p>\n",
       "</div>"
      ],
      "text/plain": [
       "                                               complaint  \\\n",
       "1      good morning my name is xxxx xxxx and i apprec...   \n",
       "2      i upgraded my xxxx xxxx card in  and was told ...   \n",
       "10     chase card was reported on  however fraudulent...   \n",
       "11     on  while trying to book a xxxx  xxxx  ticket ...   \n",
       "14     my grand son give me check for  i deposit it i...   \n",
       "...                                                  ...   \n",
       "78303  after being a chase card customer for well ove...   \n",
       "78309  on wednesday xxxxxxxx i called chas my xxxx xx...   \n",
       "78310  i am not familiar with xxxx pay and did not un...   \n",
       "78311  i have had flawless credit for  yrs ive had ch...   \n",
       "78312  roughly  years ago i closed out my accounts wi...   \n",
       "\n",
       "                                    complaint_lemmatized  \\\n",
       "1      good morning my name be xxxx xxxx and I apprec...   \n",
       "2      I upgrade my xxxx xxxx card in   and be tell b...   \n",
       "10     chase card be report on   however fraudulent a...   \n",
       "11     on   while try to book a xxxx   xxxx   ticket ...   \n",
       "14     my grand son give I check for   I deposit it i...   \n",
       "...                                                  ...   \n",
       "78303  after be a chase card customer for well over a...   \n",
       "78309  on wednesday xxxxxxxx I call chas my xxxx xxxx...   \n",
       "78310  I be not familiar with xxxx pay and do not und...   \n",
       "78311  I have have flawless credit for   yrs I ve hav...   \n",
       "78312  roughly   year ago I close out my account with...   \n",
       "\n",
       "                                   complaint_POS_removed  \n",
       "1      morning name stop bank cardmember service ask ...  \n",
       "2      xxxx card agent anniversary date agent informa...  \n",
       "10     chase card report application identity consent...  \n",
       "11     xxxx xxxx ticket offer ticket reward card info...  \n",
       "14     son chase account fund chase bank account mone...  \n",
       "...                                                  ...  \n",
       "78303  chase card customer decade solicitation credit...  \n",
       "78309  xxxx credit card provider claim purchase prote...  \n",
       "78310  xxxx risk consumer chase bank app chase year b...  \n",
       "78311  credit yrs chase credit card chase freedom pro...  \n",
       "78312  year account order line credit account payment...  \n",
       "\n",
       "[21072 rows x 3 columns]"
      ]
     },
     "execution_count": 16,
     "metadata": {},
     "output_type": "execute_result"
    }
   ],
   "source": [
    "#The clean dataframe should now contain the raw complaint, lemmatized complaint and the complaint after removing POS tags.\n",
    "df_clean"
   ]
  },
  {
   "cell_type": "markdown",
   "metadata": {
    "id": "_7Un1AElJrF2"
   },
   "source": [
    "## Exploratory data analysis to get familiar with the data.\n",
    "\n",
    "Write the code in this task to perform the following:\n",
    "\n",
    "*   Visualise the data according to the 'Complaint' character length\n",
    "*   Using a word cloud find the top 40 words by frequency among all the articles after processing the text\n",
    "*   Find the top unigrams,bigrams and trigrams by frequency among all the complaints after processing the text. ‘\n",
    "\n",
    "\n"
   ]
  },
  {
   "cell_type": "code",
   "execution_count": 17,
   "metadata": {
    "id": "q-zaqJF6JrF2"
   },
   "outputs": [
    {
     "data": {
      "image/png": "[encoded data removed]",
      "text/plain": [
       "<Figure size 640x480 with 1 Axes>"
      ]
     },
     "metadata": {},
     "output_type": "display_data"
    }
   ],
   "source": [
    "# Write your code here to visualise the data according to the 'Complaint' character length\n",
    "df_clean['complaint_length'] = df_clean['complaint_POS_removed'].str.len()\n",
    "\n",
    "sns.histplot(data=df_clean, x='complaint_length')\n",
    "plt.xlabel('#Complaints')\n",
    "plt.ylabel('Complaint Length')\n",
    "plt.show()"
   ]
  },
  {
   "cell_type": "markdown",
   "metadata": {
    "id": "T9jD_6SeJrF3"
   },
   "source": [
    "#### Find the top 40 words by frequency among all the articles after processing the text."
   ]
  },
  {
   "cell_type": "code",
   "execution_count": 18,
   "metadata": {
    "id": "QcfdvtfZJrF3"
   },
   "outputs": [
    {
     "data": {
      "image/png": "[encoded data removed]",
      "text/plain": [
       "<Figure size 1500x1000 with 1 Axes>"
      ]
     },
     "metadata": {},
     "output_type": "display_data"
    }
   ],
   "source": [
    "#Using a word cloud find the top 40 words by frequency among all the articles after processing the text\n",
    "from wordcloud import WordCloud\n",
    "wordcloud = WordCloud(max_words=40, background_color='white').generate(' '.join(df_clean['complaint_POS_removed'].to_list()))\n",
    "plt.figure(figsize=(15,10))\n",
    "plt.imshow(wordcloud)\n",
    "plt.axis('off')\n",
    "plt.show()"
   ]
  },
  {
   "cell_type": "code",
   "execution_count": 19,
   "metadata": {
    "id": "OkSmc3UaJrF4"
   },
   "outputs": [],
   "source": [
    "#Removing -PRON- from the text corpus\n",
    "df_clean['Complaint_clean'] = df_clean['complaint_POS_removed'].str.replace('-PRON-', '')"
   ]
  },
  {
   "cell_type": "markdown",
   "metadata": {
    "id": "5DfCSbbmJrF4"
   },
   "source": [
    "#### Find the top unigrams,bigrams and trigrams by frequency among all the complaints after processing the text."
   ]
  },
  {
   "cell_type": "code",
   "execution_count": 20,
   "metadata": {
    "id": "5mbk5DS5JrF4"
   },
   "outputs": [],
   "source": [
    "#Write your code here to find the top 30 unigram frequency among the complaints in the cleaned datafram(df_clean). \n",
    "def get_ngrams(data, ngram=1, top=None):\n",
    "    count_vec = CountVectorizer(ngram_range=(ngram, ngram), stop_words='english').fit(data)\n",
    "    bow = count_vec.transform(data)\n",
    "\n",
    "    count_words = bow.sum(axis=0) \n",
    "    words_count = [(word, count_words[0, idx]) for word, idx in count_vec.vocabulary_.items()]\n",
    "\n",
    "    words_count =sorted(words_count, key = lambda x: x[1], reverse=True)\n",
    "    return words_count[:top]\n",
    "\n",
    "unigrams = get_ngrams(df_clean['Complaint_clean'], ngram=1, top=30)"
   ]
  },
  {
   "cell_type": "code",
   "execution_count": 21,
   "metadata": {
    "id": "YX7fedm1JrF8"
   },
   "outputs": [
    {
     "data": {
      "text/plain": [
       "[('chase', 52499),\n",
       " ('xxxx', 47804),\n",
       " ('account', 46594),\n",
       " ('credit', 33449),\n",
       " ('card', 30171),\n",
       " ('bank', 21530),\n",
       " ('payment', 21139),\n",
       " ('time', 15982),\n",
       " ('charge', 14136),\n",
       " ('xxxxxxxx', 13475)]"
      ]
     },
     "execution_count": 21,
     "metadata": {},
     "output_type": "execute_result"
    }
   ],
   "source": [
    "#Print the top 10 words in the unigram frequency\n",
    "unigrams[:10]"
   ]
  },
  {
   "cell_type": "code",
   "execution_count": 22,
   "metadata": {
    "id": "aV7kD7w8JrF8"
   },
   "outputs": [],
   "source": [
    "#Write your code here to find the top 30 bigram frequency among the complaints in the cleaned datafram(df_clean). \n",
    "bigrams = get_ngrams(df_clean['Complaint_clean'], ngram=2, top=30)"
   ]
  },
  {
   "cell_type": "code",
   "execution_count": 23,
   "metadata": {
    "id": "NPnMNIpyJrF9"
   },
   "outputs": [
    {
     "data": {
      "text/plain": [
       "[('credit card', 12835),\n",
       " ('xxxx xxxx', 5232),\n",
       " ('credit report', 3912),\n",
       " ('customer service', 3053),\n",
       " ('account chase', 2908),\n",
       " ('chase credit', 2814),\n",
       " ('chase account', 2583),\n",
       " ('bank account', 2427),\n",
       " ('check account', 2280),\n",
       " ('account account', 2242)]"
      ]
     },
     "execution_count": 23,
     "metadata": {},
     "output_type": "execute_result"
    }
   ],
   "source": [
    "#Print the top 10 words in the bigram frequency\n",
    "bigrams[:10]"
   ]
  },
  {
   "cell_type": "code",
   "execution_count": 24,
   "metadata": {
    "id": "Xkh7vtbtJrF-"
   },
   "outputs": [],
   "source": [
    "#Write your code here to find the top 30 trigram frequency among the complaints in the cleaned datafram(df_clean). \n",
    "trigrams = get_ngrams(df_clean['Complaint_clean'], ngram=3, top=30)"
   ]
  },
  {
   "cell_type": "code",
   "execution_count": 25,
   "metadata": {
    "id": "REcVxNfvJrF-"
   },
   "outputs": [
    {
     "data": {
      "text/plain": [
       "[('chase credit card', 1884),\n",
       " ('credit card account', 1087),\n",
       " ('credit card company', 985),\n",
       " ('xxxx xxxx xxxx', 843),\n",
       " ('xxxx credit card', 806),\n",
       " ('credit card chase', 710),\n",
       " ('credit card credit', 511),\n",
       " ('inquiry credit report', 484),\n",
       " ('credit card xxxx', 432),\n",
       " ('account credit card', 413)]"
      ]
     },
     "execution_count": 25,
     "metadata": {},
     "output_type": "execute_result"
    }
   ],
   "source": [
    "#Print the top 10 words in the trigram frequency\n",
    "trigrams[:10]"
   ]
  },
  {
   "cell_type": "markdown",
   "metadata": {
    "id": "yUXzFji0JrF_"
   },
   "source": [
    "## The personal details of customer has been masked in the dataset with xxxx. Let's remove the masked text as this will be of no use for our analysis"
   ]
  },
  {
   "cell_type": "code",
   "execution_count": 26,
   "metadata": {
    "id": "wKda-a_IJrF_"
   },
   "outputs": [],
   "source": [
    "df_clean['Complaint_clean'] = df_clean['Complaint_clean'].str.replace('xxxx','')"
   ]
  },
  {
   "cell_type": "code",
   "execution_count": 27,
   "metadata": {
    "id": "9UIFk8fQJrF_"
   },
   "outputs": [
    {
     "data": {
      "text/html": [
       "<div>\n",
       "<style scoped>\n",
       "    .dataframe tbody tr th:only-of-type {\n",
       "        vertical-align: middle;\n",
       "    }\n",
       "\n",
       "    .dataframe tbody tr th {\n",
       "        vertical-align: top;\n",
       "    }\n",
       "\n",
       "    .dataframe thead th {\n",
       "        text-align: right;\n",
       "    }\n",
       "</style>\n",
       "<table border=\"1\" class=\"dataframe\">\n",
       "  <thead>\n",
       "    <tr style=\"text-align: right;\">\n",
       "      <th></th>\n",
       "      <th>complaint</th>\n",
       "      <th>complaint_lemmatized</th>\n",
       "      <th>complaint_POS_removed</th>\n",
       "      <th>complaint_length</th>\n",
       "      <th>Complaint_clean</th>\n",
       "    </tr>\n",
       "  </thead>\n",
       "  <tbody>\n",
       "    <tr>\n",
       "      <th>1</th>\n",
       "      <td>good morning my name is xxxx xxxx and i apprec...</td>\n",
       "      <td>good morning my name be xxxx xxxx and I apprec...</td>\n",
       "      <td>morning name stop bank cardmember service ask ...</td>\n",
       "      <td>158</td>\n",
       "      <td>morning name stop bank cardmember service ask ...</td>\n",
       "    </tr>\n",
       "    <tr>\n",
       "      <th>2</th>\n",
       "      <td>i upgraded my xxxx xxxx card in  and was told ...</td>\n",
       "      <td>I upgrade my xxxx xxxx card in   and be tell b...</td>\n",
       "      <td>xxxx card agent anniversary date agent informa...</td>\n",
       "      <td>110</td>\n",
       "      <td>card agent anniversary date agent information...</td>\n",
       "    </tr>\n",
       "    <tr>\n",
       "      <th>10</th>\n",
       "      <td>chase card was reported on  however fraudulent...</td>\n",
       "      <td>chase card be report on   however fraudulent a...</td>\n",
       "      <td>chase card report application identity consent...</td>\n",
       "      <td>80</td>\n",
       "      <td>chase card report application identity consent...</td>\n",
       "    </tr>\n",
       "    <tr>\n",
       "      <th>11</th>\n",
       "      <td>on  while trying to book a xxxx  xxxx  ticket ...</td>\n",
       "      <td>on   while try to book a xxxx   xxxx   ticket ...</td>\n",
       "      <td>xxxx xxxx ticket offer ticket reward card info...</td>\n",
       "      <td>391</td>\n",
       "      <td>ticket offer ticket reward card information ...</td>\n",
       "    </tr>\n",
       "    <tr>\n",
       "      <th>14</th>\n",
       "      <td>my grand son give me check for  i deposit it i...</td>\n",
       "      <td>my grand son give I check for   I deposit it i...</td>\n",
       "      <td>son chase account fund chase bank account mone...</td>\n",
       "      <td>162</td>\n",
       "      <td>son chase account fund chase bank account mone...</td>\n",
       "    </tr>\n",
       "    <tr>\n",
       "      <th>...</th>\n",
       "      <td>...</td>\n",
       "      <td>...</td>\n",
       "      <td>...</td>\n",
       "      <td>...</td>\n",
       "      <td>...</td>\n",
       "    </tr>\n",
       "    <tr>\n",
       "      <th>78303</th>\n",
       "      <td>after being a chase card customer for well ove...</td>\n",
       "      <td>after be a chase card customer for well over a...</td>\n",
       "      <td>chase card customer decade solicitation credit...</td>\n",
       "      <td>222</td>\n",
       "      <td>chase card customer decade solicitation credit...</td>\n",
       "    </tr>\n",
       "    <tr>\n",
       "      <th>78309</th>\n",
       "      <td>on wednesday xxxxxxxx i called chas my xxxx xx...</td>\n",
       "      <td>on wednesday xxxxxxxx I call chas my xxxx xxxx...</td>\n",
       "      <td>xxxx credit card provider claim purchase prote...</td>\n",
       "      <td>669</td>\n",
       "      <td>credit card provider claim purchase protectio...</td>\n",
       "    </tr>\n",
       "    <tr>\n",
       "      <th>78310</th>\n",
       "      <td>i am not familiar with xxxx pay and did not un...</td>\n",
       "      <td>I be not familiar with xxxx pay and do not und...</td>\n",
       "      <td>xxxx risk consumer chase bank app chase year b...</td>\n",
       "      <td>725</td>\n",
       "      <td>risk consumer chase bank app chase year banki...</td>\n",
       "    </tr>\n",
       "    <tr>\n",
       "      <th>78311</th>\n",
       "      <td>i have had flawless credit for  yrs ive had ch...</td>\n",
       "      <td>I have have flawless credit for   yrs I ve hav...</td>\n",
       "      <td>credit yrs chase credit card chase freedom pro...</td>\n",
       "      <td>553</td>\n",
       "      <td>credit yrs chase credit card chase freedom pro...</td>\n",
       "    </tr>\n",
       "    <tr>\n",
       "      <th>78312</th>\n",
       "      <td>roughly  years ago i closed out my accounts wi...</td>\n",
       "      <td>roughly   year ago I close out my account with...</td>\n",
       "      <td>year account order line credit account payment...</td>\n",
       "      <td>215</td>\n",
       "      <td>year account order line credit account payment...</td>\n",
       "    </tr>\n",
       "  </tbody>\n",
       "</table>\n",
       "<p>21072 rows × 5 columns</p>\n",
       "</div>"
      ],
      "text/plain": [
       "                                               complaint  \\\n",
       "1      good morning my name is xxxx xxxx and i apprec...   \n",
       "2      i upgraded my xxxx xxxx card in  and was told ...   \n",
       "10     chase card was reported on  however fraudulent...   \n",
       "11     on  while trying to book a xxxx  xxxx  ticket ...   \n",
       "14     my grand son give me check for  i deposit it i...   \n",
       "...                                                  ...   \n",
       "78303  after being a chase card customer for well ove...   \n",
       "78309  on wednesday xxxxxxxx i called chas my xxxx xx...   \n",
       "78310  i am not familiar with xxxx pay and did not un...   \n",
       "78311  i have had flawless credit for  yrs ive had ch...   \n",
       "78312  roughly  years ago i closed out my accounts wi...   \n",
       "\n",
       "                                    complaint_lemmatized  \\\n",
       "1      good morning my name be xxxx xxxx and I apprec...   \n",
       "2      I upgrade my xxxx xxxx card in   and be tell b...   \n",
       "10     chase card be report on   however fraudulent a...   \n",
       "11     on   while try to book a xxxx   xxxx   ticket ...   \n",
       "14     my grand son give I check for   I deposit it i...   \n",
       "...                                                  ...   \n",
       "78303  after be a chase card customer for well over a...   \n",
       "78309  on wednesday xxxxxxxx I call chas my xxxx xxxx...   \n",
       "78310  I be not familiar with xxxx pay and do not und...   \n",
       "78311  I have have flawless credit for   yrs I ve hav...   \n",
       "78312  roughly   year ago I close out my account with...   \n",
       "\n",
       "                                   complaint_POS_removed  complaint_length  \\\n",
       "1      morning name stop bank cardmember service ask ...               158   \n",
       "2      xxxx card agent anniversary date agent informa...               110   \n",
       "10     chase card report application identity consent...                80   \n",
       "11     xxxx xxxx ticket offer ticket reward card info...               391   \n",
       "14     son chase account fund chase bank account mone...               162   \n",
       "...                                                  ...               ...   \n",
       "78303  chase card customer decade solicitation credit...               222   \n",
       "78309  xxxx credit card provider claim purchase prote...               669   \n",
       "78310  xxxx risk consumer chase bank app chase year b...               725   \n",
       "78311  credit yrs chase credit card chase freedom pro...               553   \n",
       "78312  year account order line credit account payment...               215   \n",
       "\n",
       "                                         Complaint_clean  \n",
       "1      morning name stop bank cardmember service ask ...  \n",
       "2       card agent anniversary date agent information...  \n",
       "10     chase card report application identity consent...  \n",
       "11       ticket offer ticket reward card information ...  \n",
       "14     son chase account fund chase bank account mone...  \n",
       "...                                                  ...  \n",
       "78303  chase card customer decade solicitation credit...  \n",
       "78309   credit card provider claim purchase protectio...  \n",
       "78310   risk consumer chase bank app chase year banki...  \n",
       "78311  credit yrs chase credit card chase freedom pro...  \n",
       "78312  year account order line credit account payment...  \n",
       "\n",
       "[21072 rows x 5 columns]"
      ]
     },
     "execution_count": 27,
     "metadata": {},
     "output_type": "execute_result"
    }
   ],
   "source": [
    "#All masked texts has been removed\n",
    "df_clean"
   ]
  },
  {
   "cell_type": "markdown",
   "metadata": {
    "id": "k-I0k0QtJrGA"
   },
   "source": [
    "## Feature Extraction\n",
    "Convert the raw texts to a matrix of TF-IDF features\n",
    "\n",
    "**max_df** is used for removing terms that appear too frequently, also known as \"corpus-specific stop words\"\n",
    "max_df = 0.95 means \"ignore terms that appear in more than 95% of the complaints\"\n",
    "\n",
    "**min_df** is used for removing terms that appear too infrequently\n",
    "min_df = 2 means \"ignore terms that appear in less than 2 complaints\""
   ]
  },
  {
   "cell_type": "code",
   "execution_count": 28,
   "metadata": {
    "id": "Y8fGwaCPJrGA"
   },
   "outputs": [],
   "source": [
    "#Write your code here to initialise the TfidfVectorizer \n",
    "vectorizer = TfidfVectorizer(min_df=2, max_df=0.95)\n"
   ]
  },
  {
   "cell_type": "markdown",
   "metadata": {
    "id": "yYzD85nTJrGA"
   },
   "source": [
    "#### Create a document term matrix using fit_transform\n",
    "\n",
    "The contents of a document term matrix are tuples of (complaint_id,token_id) tf-idf score:\n",
    "The tuples that are not there have a tf-idf score of 0"
   ]
  },
  {
   "cell_type": "code",
   "execution_count": 29,
   "metadata": {
    "id": "ffzdDpp_JrGB"
   },
   "outputs": [
    {
     "data": {
      "text/plain": [
       "<21072x6978 sparse matrix of type '<class 'numpy.float64'>'\n",
       "\twith 645490 stored elements in Compressed Sparse Row format>"
      ]
     },
     "execution_count": 29,
     "metadata": {},
     "output_type": "execute_result"
    }
   ],
   "source": [
    "#Write your code here to create the Document Term Matrix by transforming the complaints column present in df_clean.\n",
    "X = vectorizer.fit_transform(df_clean['Complaint_clean'])\n",
    "X"
   ]
  },
  {
   "cell_type": "markdown",
   "metadata": {
    "id": "7Q9lwvNEJrGB"
   },
   "source": [
    "## Topic Modelling using NMF\n",
    "\n",
    "Non-Negative Matrix Factorization (NMF) is an unsupervised technique so there are no labeling of topics that the model will be trained on. The way it works is that, NMF decomposes (or factorizes) high-dimensional vectors into a lower-dimensional representation. These lower-dimensional vectors are non-negative which also means their coefficients are non-negative.\n",
    "\n",
    "In this task you have to perform the following:\n",
    "\n",
    "* Find the best number of clusters \n",
    "* Apply the best number to create word clusters\n",
    "* Inspect & validate the correction of each cluster wrt the complaints \n",
    "* Correct the labels if needed \n",
    "* Map the clusters to topics/cluster names"
   ]
  },
  {
   "cell_type": "code",
   "execution_count": 30,
   "metadata": {
    "id": "amLT4omWJrGB"
   },
   "outputs": [],
   "source": [
    "from sklearn.decomposition import NMF"
   ]
  },
  {
   "cell_type": "markdown",
   "metadata": {
    "id": "0wYR1xUTJrGD"
   },
   "source": [
    "## Manual Topic Modeling\n",
    "You need to do take the trial & error approach to find the best num of topics for your NMF model.\n",
    "\n",
    "The only parameter that is required is the number of components i.e. the number of topics we want. This is the most crucial step in the whole topic modeling process and will greatly affect how good your final topics are."
   ]
  },
  {
   "cell_type": "code",
   "execution_count": 31,
   "metadata": {
    "id": "sgd2A6bhJrGD"
   },
   "outputs": [],
   "source": [
    "#Load your nmf_model with the n_components i.e 5\n",
    "num_topics = 5\n",
    "\n",
    "#keep the random_state =40\n",
    "nmf_model = NMF(random_state=40,n_components=num_topics)"
   ]
  },
  {
   "cell_type": "code",
   "execution_count": 32,
   "metadata": {
    "id": "VPMDYbt_JrGE"
   },
   "outputs": [
    {
     "data": {
      "text/plain": [
       "6978"
      ]
     },
     "execution_count": 32,
     "metadata": {},
     "output_type": "execute_result"
    }
   ],
   "source": [
    "nmf_model.fit(X)\n",
    "len(vectorizer.get_feature_names_out())"
   ]
  },
  {
   "cell_type": "code",
   "execution_count": 33,
   "metadata": {},
   "outputs": [
    {
     "data": {
      "text/plain": [
       "(5, 6978)"
      ]
     },
     "execution_count": 33,
     "metadata": {},
     "output_type": "execute_result"
    }
   ],
   "source": [
    "nmf_model.components_.shape"
   ]
  },
  {
   "cell_type": "code",
   "execution_count": 34,
   "metadata": {
    "id": "16kRfat5JrGE"
   },
   "outputs": [
    {
     "name": "stdout",
     "output_type": "stream",
     "text": [
      "Topic # 0\n",
      "['transaction', 'customer', 'transfer', 'number', 'business', 'checking', 'day', 'branch', 'deposit', 'chase', 'fund', 'money', 'bank', 'check', 'account']\n",
      "Topic # 1\n",
      "['reason', 'application', 'purchase', 'offer', 'interest', 'month', 'point', 'year', 'score', 'limit', 'account', 'balance', 'chase', 'credit', 'card']\n",
      "Topic # 2\n",
      "['statement', 'amount', 'property', 'balance', 'rate', 'year', 'time', 'interest', 'modification', 'month', 'home', 'chase', 'mortgage', 'loan', 'payment']\n",
      "Topic # 3\n",
      "['creditor', 'file', 'date', 'letter', 'score', 'theft', 'account', 'identity', 'debt', 'reporting', 'information', 'company', 'credit', 'inquiry', 'report']\n",
      "Topic # 4\n",
      "['call', 'time', 'refund', 'service', 'amount', 'email', 'purchase', 'fraud', 'fee', 'merchant', 'claim', 'chase', 'transaction', 'dispute', 'charge']\n"
     ]
    }
   ],
   "source": [
    "#Print the Top15 words for each of the topics\n",
    "for index, topic in enumerate(nmf_model.components_):\n",
    "    print('Topic #', index)\n",
    "    print([vectorizer.get_feature_names_out()[i] for i in topic.argsort()[-15:]])"
   ]
  },
  {
   "cell_type": "code",
   "execution_count": 35,
   "metadata": {
    "id": "0OIT7LmFJrGF"
   },
   "outputs": [
    {
     "data": {
      "text/plain": [
       "array([0, 1, 3, ..., 4, 1, 2], dtype=int64)"
      ]
     },
     "execution_count": 35,
     "metadata": {},
     "output_type": "execute_result"
    }
   ],
   "source": [
    "#Create the best topic for each complaint in terms of integer value 0,1,2,3 & 4\n",
    "topic_nums = nmf_model.transform(X).argmax(axis=1)\n",
    "topic_nums"
   ]
  },
  {
   "cell_type": "code",
   "execution_count": 36,
   "metadata": {
    "id": "peyYv-ORJrGF"
   },
   "outputs": [],
   "source": [
    "#Assign the best topic to each of the cmplaints in Topic Column\n",
    "\n",
    "df_clean['Topic'] = topic_nums"
   ]
  },
  {
   "cell_type": "code",
   "execution_count": 37,
   "metadata": {
    "id": "fLh_Gf3nJrGF"
   },
   "outputs": [
    {
     "data": {
      "text/html": [
       "<div>\n",
       "<style scoped>\n",
       "    .dataframe tbody tr th:only-of-type {\n",
       "        vertical-align: middle;\n",
       "    }\n",
       "\n",
       "    .dataframe tbody tr th {\n",
       "        vertical-align: top;\n",
       "    }\n",
       "\n",
       "    .dataframe thead th {\n",
       "        text-align: right;\n",
       "    }\n",
       "</style>\n",
       "<table border=\"1\" class=\"dataframe\">\n",
       "  <thead>\n",
       "    <tr style=\"text-align: right;\">\n",
       "      <th></th>\n",
       "      <th>complaint</th>\n",
       "      <th>complaint_lemmatized</th>\n",
       "      <th>complaint_POS_removed</th>\n",
       "      <th>complaint_length</th>\n",
       "      <th>Complaint_clean</th>\n",
       "      <th>Topic</th>\n",
       "    </tr>\n",
       "  </thead>\n",
       "  <tbody>\n",
       "    <tr>\n",
       "      <th>1</th>\n",
       "      <td>good morning my name is xxxx xxxx and i apprec...</td>\n",
       "      <td>good morning my name be xxxx xxxx and I apprec...</td>\n",
       "      <td>morning name stop bank cardmember service ask ...</td>\n",
       "      <td>158</td>\n",
       "      <td>morning name stop bank cardmember service ask ...</td>\n",
       "      <td>0</td>\n",
       "    </tr>\n",
       "    <tr>\n",
       "      <th>2</th>\n",
       "      <td>i upgraded my xxxx xxxx card in  and was told ...</td>\n",
       "      <td>I upgrade my xxxx xxxx card in   and be tell b...</td>\n",
       "      <td>xxxx card agent anniversary date agent informa...</td>\n",
       "      <td>110</td>\n",
       "      <td>card agent anniversary date agent information...</td>\n",
       "      <td>1</td>\n",
       "    </tr>\n",
       "    <tr>\n",
       "      <th>10</th>\n",
       "      <td>chase card was reported on  however fraudulent...</td>\n",
       "      <td>chase card be report on   however fraudulent a...</td>\n",
       "      <td>chase card report application identity consent...</td>\n",
       "      <td>80</td>\n",
       "      <td>chase card report application identity consent...</td>\n",
       "      <td>3</td>\n",
       "    </tr>\n",
       "    <tr>\n",
       "      <th>11</th>\n",
       "      <td>on  while trying to book a xxxx  xxxx  ticket ...</td>\n",
       "      <td>on   while try to book a xxxx   xxxx   ticket ...</td>\n",
       "      <td>xxxx xxxx ticket offer ticket reward card info...</td>\n",
       "      <td>391</td>\n",
       "      <td>ticket offer ticket reward card information ...</td>\n",
       "      <td>3</td>\n",
       "    </tr>\n",
       "    <tr>\n",
       "      <th>14</th>\n",
       "      <td>my grand son give me check for  i deposit it i...</td>\n",
       "      <td>my grand son give I check for   I deposit it i...</td>\n",
       "      <td>son chase account fund chase bank account mone...</td>\n",
       "      <td>162</td>\n",
       "      <td>son chase account fund chase bank account mone...</td>\n",
       "      <td>0</td>\n",
       "    </tr>\n",
       "  </tbody>\n",
       "</table>\n",
       "</div>"
      ],
      "text/plain": [
       "                                            complaint  \\\n",
       "1   good morning my name is xxxx xxxx and i apprec...   \n",
       "2   i upgraded my xxxx xxxx card in  and was told ...   \n",
       "10  chase card was reported on  however fraudulent...   \n",
       "11  on  while trying to book a xxxx  xxxx  ticket ...   \n",
       "14  my grand son give me check for  i deposit it i...   \n",
       "\n",
       "                                 complaint_lemmatized  \\\n",
       "1   good morning my name be xxxx xxxx and I apprec...   \n",
       "2   I upgrade my xxxx xxxx card in   and be tell b...   \n",
       "10  chase card be report on   however fraudulent a...   \n",
       "11  on   while try to book a xxxx   xxxx   ticket ...   \n",
       "14  my grand son give I check for   I deposit it i...   \n",
       "\n",
       "                                complaint_POS_removed  complaint_length  \\\n",
       "1   morning name stop bank cardmember service ask ...               158   \n",
       "2   xxxx card agent anniversary date agent informa...               110   \n",
       "10  chase card report application identity consent...                80   \n",
       "11  xxxx xxxx ticket offer ticket reward card info...               391   \n",
       "14  son chase account fund chase bank account mone...               162   \n",
       "\n",
       "                                      Complaint_clean  Topic  \n",
       "1   morning name stop bank cardmember service ask ...      0  \n",
       "2    card agent anniversary date agent information...      1  \n",
       "10  chase card report application identity consent...      3  \n",
       "11    ticket offer ticket reward card information ...      3  \n",
       "14  son chase account fund chase bank account mone...      0  "
      ]
     },
     "execution_count": 37,
     "metadata": {},
     "output_type": "execute_result"
    }
   ],
   "source": [
    "df_clean.head()"
   ]
  },
  {
   "cell_type": "code",
   "execution_count": 38,
   "metadata": {
    "id": "aQKpufSPJrGG"
   },
   "outputs": [
    {
     "data": {
      "text/html": [
       "<div>\n",
       "<style scoped>\n",
       "    .dataframe tbody tr th:only-of-type {\n",
       "        vertical-align: middle;\n",
       "    }\n",
       "\n",
       "    .dataframe tbody tr th {\n",
       "        vertical-align: top;\n",
       "    }\n",
       "\n",
       "    .dataframe thead th {\n",
       "        text-align: right;\n",
       "    }\n",
       "</style>\n",
       "<table border=\"1\" class=\"dataframe\">\n",
       "  <thead>\n",
       "    <tr style=\"text-align: right;\">\n",
       "      <th></th>\n",
       "      <th>complaint</th>\n",
       "      <th>complaint_lemmatized</th>\n",
       "      <th>complaint_POS_removed</th>\n",
       "      <th>complaint_length</th>\n",
       "      <th>Complaint_clean</th>\n",
       "      <th>Topic</th>\n",
       "    </tr>\n",
       "  </thead>\n",
       "  <tbody>\n",
       "    <tr>\n",
       "      <th>1</th>\n",
       "      <td>good morning my name is xxxx xxxx and i apprec...</td>\n",
       "      <td>good morning my name be xxxx xxxx and I apprec...</td>\n",
       "      <td>morning name stop bank cardmember service ask ...</td>\n",
       "      <td>158</td>\n",
       "      <td>morning name stop bank cardmember service ask ...</td>\n",
       "      <td>0</td>\n",
       "    </tr>\n",
       "    <tr>\n",
       "      <th>24</th>\n",
       "      <td>mishandling of this account by chase auto and ...</td>\n",
       "      <td>mishandle of this account by chase auto and xxxx</td>\n",
       "      <td>mishandle account chase auto xxxx</td>\n",
       "      <td>33</td>\n",
       "      <td>mishandle account chase auto</td>\n",
       "      <td>0</td>\n",
       "    </tr>\n",
       "    <tr>\n",
       "      <th>17</th>\n",
       "      <td>with out notice jp morgan chase restricted my ...</td>\n",
       "      <td>with out notice jp morgan chase restrict my ac...</td>\n",
       "      <td>notice account debit card branch customer serv...</td>\n",
       "      <td>632</td>\n",
       "      <td>notice account debit card branch customer serv...</td>\n",
       "      <td>0</td>\n",
       "    </tr>\n",
       "    <tr>\n",
       "      <th>14</th>\n",
       "      <td>my grand son give me check for  i deposit it i...</td>\n",
       "      <td>my grand son give I check for   I deposit it i...</td>\n",
       "      <td>son chase account fund chase bank account mone...</td>\n",
       "      <td>162</td>\n",
       "      <td>son chase account fund chase bank account mone...</td>\n",
       "      <td>0</td>\n",
       "    </tr>\n",
       "    <tr>\n",
       "      <th>27</th>\n",
       "      <td>i opened an account with chase bank on xxxx an...</td>\n",
       "      <td>I open an account with chase bank on xxxx and ...</td>\n",
       "      <td>account bank code bonus xxxxxxxx term everythi...</td>\n",
       "      <td>130</td>\n",
       "      <td>account bank code bonus  term everything accou...</td>\n",
       "      <td>0</td>\n",
       "    </tr>\n",
       "    <tr>\n",
       "      <th>32</th>\n",
       "      <td>my chase amazon card was declined for a cateri...</td>\n",
       "      <td>my chase amazon card be decline for a catering...</td>\n",
       "      <td>chase card decline catering order place brothe...</td>\n",
       "      <td>620</td>\n",
       "      <td>chase card decline catering order place brothe...</td>\n",
       "      <td>1</td>\n",
       "    </tr>\n",
       "    <tr>\n",
       "      <th>59</th>\n",
       "      <td>i currently have over xxxx chase ultimate rewa...</td>\n",
       "      <td>I currently have over xxxx chase ultimate rewa...</td>\n",
       "      <td>chase reward point month reward account bonus ...</td>\n",
       "      <td>504</td>\n",
       "      <td>chase reward point month reward account bonus ...</td>\n",
       "      <td>1</td>\n",
       "    </tr>\n",
       "    <tr>\n",
       "      <th>52</th>\n",
       "      <td>my roommate was stealing my chase debit card a...</td>\n",
       "      <td>my roommate be steal my chase debit card and d...</td>\n",
       "      <td>roommate chase debit card driver license money...</td>\n",
       "      <td>204</td>\n",
       "      <td>roommate chase debit card driver license money...</td>\n",
       "      <td>1</td>\n",
       "    </tr>\n",
       "    <tr>\n",
       "      <th>2</th>\n",
       "      <td>i upgraded my xxxx xxxx card in  and was told ...</td>\n",
       "      <td>I upgrade my xxxx xxxx card in   and be tell b...</td>\n",
       "      <td>xxxx card agent anniversary date agent informa...</td>\n",
       "      <td>110</td>\n",
       "      <td>card agent anniversary date agent information...</td>\n",
       "      <td>1</td>\n",
       "    </tr>\n",
       "    <tr>\n",
       "      <th>50</th>\n",
       "      <td>i am a senior citizen that has been scammed by...</td>\n",
       "      <td>I be a senior citizen that have be scamme by s...</td>\n",
       "      <td>citizen company time share company nothing ref...</td>\n",
       "      <td>81</td>\n",
       "      <td>citizen company time share company nothing ref...</td>\n",
       "      <td>1</td>\n",
       "    </tr>\n",
       "    <tr>\n",
       "      <th>58</th>\n",
       "      <td>i made a purchase of  on xxxxxxxx i made payme...</td>\n",
       "      <td>I make a purchase of   on xxxxxxxx I make paym...</td>\n",
       "      <td>purchase xxxxxxxx payment xxxxxxxx xxxxxxxx pa...</td>\n",
       "      <td>404</td>\n",
       "      <td>purchase  payment   payment closing date state...</td>\n",
       "      <td>2</td>\n",
       "    </tr>\n",
       "    <tr>\n",
       "      <th>57</th>\n",
       "      <td>i have been trying to do a loan modification w...</td>\n",
       "      <td>I have be try to do a loan modification with c...</td>\n",
       "      <td>loan modification chase payment doc</td>\n",
       "      <td>35</td>\n",
       "      <td>loan modification chase payment doc</td>\n",
       "      <td>2</td>\n",
       "    </tr>\n",
       "    <tr>\n",
       "      <th>81</th>\n",
       "      <td>i bought a new xxxx xxxx on xxxxxxxx from xxxx...</td>\n",
       "      <td>I buy a new xxxx xxxx on xxxxxxxx from xxxx xx...</td>\n",
       "      <td>xxxx loan title chase time resolution time not...</td>\n",
       "      <td>89</td>\n",
       "      <td>loan title chase time resolution time nothing...</td>\n",
       "      <td>2</td>\n",
       "    </tr>\n",
       "    <tr>\n",
       "      <th>20</th>\n",
       "      <td>during the summer months i experience a declin...</td>\n",
       "      <td>during the summer month I experience a decline...</td>\n",
       "      <td>summer month decline income employment month p...</td>\n",
       "      <td>563</td>\n",
       "      <td>summer month decline income employment month p...</td>\n",
       "      <td>2</td>\n",
       "    </tr>\n",
       "    <tr>\n",
       "      <th>73</th>\n",
       "      <td>i have wired through one of chase branches in ...</td>\n",
       "      <td>I have wire through one of chase branch in xxx...</td>\n",
       "      <td>wire chase branch reinstatement amount order f...</td>\n",
       "      <td>378</td>\n",
       "      <td>wire chase branch reinstatement amount order f...</td>\n",
       "      <td>2</td>\n",
       "    </tr>\n",
       "    <tr>\n",
       "      <th>11</th>\n",
       "      <td>on  while trying to book a xxxx  xxxx  ticket ...</td>\n",
       "      <td>on   while try to book a xxxx   xxxx   ticket ...</td>\n",
       "      <td>xxxx xxxx ticket offer ticket reward card info...</td>\n",
       "      <td>391</td>\n",
       "      <td>ticket offer ticket reward card information ...</td>\n",
       "      <td>3</td>\n",
       "    </tr>\n",
       "    <tr>\n",
       "      <th>26</th>\n",
       "      <td>i have reached out to xxxx several times in at...</td>\n",
       "      <td>I have reach out to xxxx several time in attem...</td>\n",
       "      <td>time attempt inquiry remove creditor inquiry r...</td>\n",
       "      <td>192</td>\n",
       "      <td>time attempt inquiry remove creditor inquiry r...</td>\n",
       "      <td>3</td>\n",
       "    </tr>\n",
       "    <tr>\n",
       "      <th>23</th>\n",
       "      <td>i have a chase credit card which is incorrectl...</td>\n",
       "      <td>I have a chase credit card which be incorrectl...</td>\n",
       "      <td>credit card datum credit report company issue</td>\n",
       "      <td>45</td>\n",
       "      <td>credit card datum credit report company issue</td>\n",
       "      <td>3</td>\n",
       "    </tr>\n",
       "    <tr>\n",
       "      <th>10</th>\n",
       "      <td>chase card was reported on  however fraudulent...</td>\n",
       "      <td>chase card be report on   however fraudulent a...</td>\n",
       "      <td>chase card report application identity consent...</td>\n",
       "      <td>80</td>\n",
       "      <td>chase card report application identity consent...</td>\n",
       "      <td>3</td>\n",
       "    </tr>\n",
       "    <tr>\n",
       "      <th>15</th>\n",
       "      <td>can you please remove inquiry</td>\n",
       "      <td>can you please remove inquiry</td>\n",
       "      <td>inquiry</td>\n",
       "      <td>7</td>\n",
       "      <td>inquiry</td>\n",
       "      <td>3</td>\n",
       "    </tr>\n",
       "    <tr>\n",
       "      <th>30</th>\n",
       "      <td>to whom it may concern chase bank charged wron...</td>\n",
       "      <td>to whom it may concern chase bank charge wrong...</td>\n",
       "      <td>bank overdraft fee alert balance fee balance t...</td>\n",
       "      <td>159</td>\n",
       "      <td>bank overdraft fee alert balance fee balance t...</td>\n",
       "      <td>4</td>\n",
       "    </tr>\n",
       "    <tr>\n",
       "      <th>40</th>\n",
       "      <td>xxxx xxxx a sofa love seat table and chairs an...</td>\n",
       "      <td>xxxx xxxx a sofa love seat table and chair and...</td>\n",
       "      <td>sofa love seat table chair debit card charge b...</td>\n",
       "      <td>76</td>\n",
       "      <td>sofa love seat table chair debit card charge b...</td>\n",
       "      <td>4</td>\n",
       "    </tr>\n",
       "    <tr>\n",
       "      <th>43</th>\n",
       "      <td>chase sent me an email today with the innocuou...</td>\n",
       "      <td>chase send I an email today with the innocuous...</td>\n",
       "      <td>chase email today title information regard cha...</td>\n",
       "      <td>255</td>\n",
       "      <td>chase email today title information regard cha...</td>\n",
       "      <td>4</td>\n",
       "    </tr>\n",
       "    <tr>\n",
       "      <th>45</th>\n",
       "      <td>i made a purchase with xxxx xxxx xxxx on  in t...</td>\n",
       "      <td>I make a purchase with xxxx xxxx xxxx on   in ...</td>\n",
       "      <td>purchase amount transaction dispute case bank ...</td>\n",
       "      <td>493</td>\n",
       "      <td>purchase amount transaction dispute case bank ...</td>\n",
       "      <td>4</td>\n",
       "    </tr>\n",
       "    <tr>\n",
       "      <th>21</th>\n",
       "      <td>on xxxx  i made a  payment to an online retail...</td>\n",
       "      <td>on xxxx   I make a   payment to an online reta...</td>\n",
       "      <td>payment retailer chase pay xxxx chase website ...</td>\n",
       "      <td>1147</td>\n",
       "      <td>payment retailer chase pay  chase website scam...</td>\n",
       "      <td>4</td>\n",
       "    </tr>\n",
       "  </tbody>\n",
       "</table>\n",
       "</div>"
      ],
      "text/plain": [
       "                                            complaint  \\\n",
       "1   good morning my name is xxxx xxxx and i apprec...   \n",
       "24  mishandling of this account by chase auto and ...   \n",
       "17  with out notice jp morgan chase restricted my ...   \n",
       "14  my grand son give me check for  i deposit it i...   \n",
       "27  i opened an account with chase bank on xxxx an...   \n",
       "32  my chase amazon card was declined for a cateri...   \n",
       "59  i currently have over xxxx chase ultimate rewa...   \n",
       "52  my roommate was stealing my chase debit card a...   \n",
       "2   i upgraded my xxxx xxxx card in  and was told ...   \n",
       "50  i am a senior citizen that has been scammed by...   \n",
       "58  i made a purchase of  on xxxxxxxx i made payme...   \n",
       "57  i have been trying to do a loan modification w...   \n",
       "81  i bought a new xxxx xxxx on xxxxxxxx from xxxx...   \n",
       "20  during the summer months i experience a declin...   \n",
       "73  i have wired through one of chase branches in ...   \n",
       "11  on  while trying to book a xxxx  xxxx  ticket ...   \n",
       "26  i have reached out to xxxx several times in at...   \n",
       "23  i have a chase credit card which is incorrectl...   \n",
       "10  chase card was reported on  however fraudulent...   \n",
       "15                      can you please remove inquiry   \n",
       "30  to whom it may concern chase bank charged wron...   \n",
       "40  xxxx xxxx a sofa love seat table and chairs an...   \n",
       "43  chase sent me an email today with the innocuou...   \n",
       "45  i made a purchase with xxxx xxxx xxxx on  in t...   \n",
       "21  on xxxx  i made a  payment to an online retail...   \n",
       "\n",
       "                                 complaint_lemmatized  \\\n",
       "1   good morning my name be xxxx xxxx and I apprec...   \n",
       "24   mishandle of this account by chase auto and xxxx   \n",
       "17  with out notice jp morgan chase restrict my ac...   \n",
       "14  my grand son give I check for   I deposit it i...   \n",
       "27  I open an account with chase bank on xxxx and ...   \n",
       "32  my chase amazon card be decline for a catering...   \n",
       "59  I currently have over xxxx chase ultimate rewa...   \n",
       "52  my roommate be steal my chase debit card and d...   \n",
       "2   I upgrade my xxxx xxxx card in   and be tell b...   \n",
       "50  I be a senior citizen that have be scamme by s...   \n",
       "58  I make a purchase of   on xxxxxxxx I make paym...   \n",
       "57  I have be try to do a loan modification with c...   \n",
       "81  I buy a new xxxx xxxx on xxxxxxxx from xxxx xx...   \n",
       "20  during the summer month I experience a decline...   \n",
       "73  I have wire through one of chase branch in xxx...   \n",
       "11  on   while try to book a xxxx   xxxx   ticket ...   \n",
       "26  I have reach out to xxxx several time in attem...   \n",
       "23  I have a chase credit card which be incorrectl...   \n",
       "10  chase card be report on   however fraudulent a...   \n",
       "15                      can you please remove inquiry   \n",
       "30  to whom it may concern chase bank charge wrong...   \n",
       "40  xxxx xxxx a sofa love seat table and chair and...   \n",
       "43  chase send I an email today with the innocuous...   \n",
       "45  I make a purchase with xxxx xxxx xxxx on   in ...   \n",
       "21  on xxxx   I make a   payment to an online reta...   \n",
       "\n",
       "                                complaint_POS_removed  complaint_length  \\\n",
       "1   morning name stop bank cardmember service ask ...               158   \n",
       "24                  mishandle account chase auto xxxx                33   \n",
       "17  notice account debit card branch customer serv...               632   \n",
       "14  son chase account fund chase bank account mone...               162   \n",
       "27  account bank code bonus xxxxxxxx term everythi...               130   \n",
       "32  chase card decline catering order place brothe...               620   \n",
       "59  chase reward point month reward account bonus ...               504   \n",
       "52  roommate chase debit card driver license money...               204   \n",
       "2   xxxx card agent anniversary date agent informa...               110   \n",
       "50  citizen company time share company nothing ref...                81   \n",
       "58  purchase xxxxxxxx payment xxxxxxxx xxxxxxxx pa...               404   \n",
       "57                loan modification chase payment doc                35   \n",
       "81  xxxx loan title chase time resolution time not...                89   \n",
       "20  summer month decline income employment month p...               563   \n",
       "73  wire chase branch reinstatement amount order f...               378   \n",
       "11  xxxx xxxx ticket offer ticket reward card info...               391   \n",
       "26  time attempt inquiry remove creditor inquiry r...               192   \n",
       "23      credit card datum credit report company issue                45   \n",
       "10  chase card report application identity consent...                80   \n",
       "15                                            inquiry                 7   \n",
       "30  bank overdraft fee alert balance fee balance t...               159   \n",
       "40  sofa love seat table chair debit card charge b...                76   \n",
       "43  chase email today title information regard cha...               255   \n",
       "45  purchase amount transaction dispute case bank ...               493   \n",
       "21  payment retailer chase pay xxxx chase website ...              1147   \n",
       "\n",
       "                                      Complaint_clean  Topic  \n",
       "1   morning name stop bank cardmember service ask ...      0  \n",
       "24                      mishandle account chase auto       0  \n",
       "17  notice account debit card branch customer serv...      0  \n",
       "14  son chase account fund chase bank account mone...      0  \n",
       "27  account bank code bonus  term everything accou...      0  \n",
       "32  chase card decline catering order place brothe...      1  \n",
       "59  chase reward point month reward account bonus ...      1  \n",
       "52  roommate chase debit card driver license money...      1  \n",
       "2    card agent anniversary date agent information...      1  \n",
       "50  citizen company time share company nothing ref...      1  \n",
       "58  purchase  payment   payment closing date state...      2  \n",
       "57                loan modification chase payment doc      2  \n",
       "81   loan title chase time resolution time nothing...      2  \n",
       "20  summer month decline income employment month p...      2  \n",
       "73  wire chase branch reinstatement amount order f...      2  \n",
       "11    ticket offer ticket reward card information ...      3  \n",
       "26  time attempt inquiry remove creditor inquiry r...      3  \n",
       "23      credit card datum credit report company issue      3  \n",
       "10  chase card report application identity consent...      3  \n",
       "15                                            inquiry      3  \n",
       "30  bank overdraft fee alert balance fee balance t...      4  \n",
       "40  sofa love seat table chair debit card charge b...      4  \n",
       "43  chase email today title information regard cha...      4  \n",
       "45  purchase amount transaction dispute case bank ...      4  \n",
       "21  payment retailer chase pay  chase website scam...      4  "
      ]
     },
     "execution_count": 38,
     "metadata": {},
     "output_type": "execute_result"
    }
   ],
   "source": [
    "#Print the first 5 Complaint for each of the Topics\n",
    "df_clean2=df_clean.groupby('Topic').head(5)\n",
    "df_clean2.sort_values('Topic')"
   ]
  },
  {
   "cell_type": "markdown",
   "metadata": {
    "id": "piyLxzj6v07j"
   },
   "source": [
    "#### After evaluating the mapping, if the topics assigned are correct then assign these names to the relevant topic:\n",
    "* Bank Account services\n",
    "* Credit card or prepaid card\n",
    "* Theft/Dispute Reporting\n",
    "* Mortgage/Loan\n",
    "* Others"
   ]
  },
  {
   "cell_type": "code",
   "execution_count": 39,
   "metadata": {
    "id": "TWpwDG4RJrGG"
   },
   "outputs": [],
   "source": [
    "#Create the dictionary of Topic names and Topics\n",
    "Topic_names = {1 : 'Credit card / Prepaid card',\n",
    "               0 : 'Bank account services',\n",
    "               3 : 'Theft/Dispute reporting',\n",
    "               4 : 'Mortgages/loans',\n",
    "               2 : 'Others'}\n",
    "#Replace Topics with Topic Names\n",
    "df_clean['Topic'] = df_clean['Topic'].map(Topic_names)"
   ]
  },
  {
   "cell_type": "code",
   "execution_count": 40,
   "metadata": {
    "id": "-2ULY5K6JrGG"
   },
   "outputs": [
    {
     "data": {
      "text/html": [
       "<div>\n",
       "<style scoped>\n",
       "    .dataframe tbody tr th:only-of-type {\n",
       "        vertical-align: middle;\n",
       "    }\n",
       "\n",
       "    .dataframe tbody tr th {\n",
       "        vertical-align: top;\n",
       "    }\n",
       "\n",
       "    .dataframe thead th {\n",
       "        text-align: right;\n",
       "    }\n",
       "</style>\n",
       "<table border=\"1\" class=\"dataframe\">\n",
       "  <thead>\n",
       "    <tr style=\"text-align: right;\">\n",
       "      <th></th>\n",
       "      <th>complaint</th>\n",
       "      <th>complaint_lemmatized</th>\n",
       "      <th>complaint_POS_removed</th>\n",
       "      <th>complaint_length</th>\n",
       "      <th>Complaint_clean</th>\n",
       "      <th>Topic</th>\n",
       "    </tr>\n",
       "  </thead>\n",
       "  <tbody>\n",
       "    <tr>\n",
       "      <th>1</th>\n",
       "      <td>good morning my name is xxxx xxxx and i apprec...</td>\n",
       "      <td>good morning my name be xxxx xxxx and I apprec...</td>\n",
       "      <td>morning name stop bank cardmember service ask ...</td>\n",
       "      <td>158</td>\n",
       "      <td>morning name stop bank cardmember service ask ...</td>\n",
       "      <td>Bank account services</td>\n",
       "    </tr>\n",
       "    <tr>\n",
       "      <th>2</th>\n",
       "      <td>i upgraded my xxxx xxxx card in  and was told ...</td>\n",
       "      <td>I upgrade my xxxx xxxx card in   and be tell b...</td>\n",
       "      <td>xxxx card agent anniversary date agent informa...</td>\n",
       "      <td>110</td>\n",
       "      <td>card agent anniversary date agent information...</td>\n",
       "      <td>Credit card / Prepaid card</td>\n",
       "    </tr>\n",
       "    <tr>\n",
       "      <th>10</th>\n",
       "      <td>chase card was reported on  however fraudulent...</td>\n",
       "      <td>chase card be report on   however fraudulent a...</td>\n",
       "      <td>chase card report application identity consent...</td>\n",
       "      <td>80</td>\n",
       "      <td>chase card report application identity consent...</td>\n",
       "      <td>Theft/Dispute reporting</td>\n",
       "    </tr>\n",
       "    <tr>\n",
       "      <th>11</th>\n",
       "      <td>on  while trying to book a xxxx  xxxx  ticket ...</td>\n",
       "      <td>on   while try to book a xxxx   xxxx   ticket ...</td>\n",
       "      <td>xxxx xxxx ticket offer ticket reward card info...</td>\n",
       "      <td>391</td>\n",
       "      <td>ticket offer ticket reward card information ...</td>\n",
       "      <td>Theft/Dispute reporting</td>\n",
       "    </tr>\n",
       "    <tr>\n",
       "      <th>14</th>\n",
       "      <td>my grand son give me check for  i deposit it i...</td>\n",
       "      <td>my grand son give I check for   I deposit it i...</td>\n",
       "      <td>son chase account fund chase bank account mone...</td>\n",
       "      <td>162</td>\n",
       "      <td>son chase account fund chase bank account mone...</td>\n",
       "      <td>Bank account services</td>\n",
       "    </tr>\n",
       "    <tr>\n",
       "      <th>...</th>\n",
       "      <td>...</td>\n",
       "      <td>...</td>\n",
       "      <td>...</td>\n",
       "      <td>...</td>\n",
       "      <td>...</td>\n",
       "      <td>...</td>\n",
       "    </tr>\n",
       "    <tr>\n",
       "      <th>78303</th>\n",
       "      <td>after being a chase card customer for well ove...</td>\n",
       "      <td>after be a chase card customer for well over a...</td>\n",
       "      <td>chase card customer decade solicitation credit...</td>\n",
       "      <td>222</td>\n",
       "      <td>chase card customer decade solicitation credit...</td>\n",
       "      <td>Credit card / Prepaid card</td>\n",
       "    </tr>\n",
       "    <tr>\n",
       "      <th>78309</th>\n",
       "      <td>on wednesday xxxxxxxx i called chas my xxxx xx...</td>\n",
       "      <td>on wednesday xxxxxxxx I call chas my xxxx xxxx...</td>\n",
       "      <td>xxxx credit card provider claim purchase prote...</td>\n",
       "      <td>669</td>\n",
       "      <td>credit card provider claim purchase protectio...</td>\n",
       "      <td>Mortgages/loans</td>\n",
       "    </tr>\n",
       "    <tr>\n",
       "      <th>78310</th>\n",
       "      <td>i am not familiar with xxxx pay and did not un...</td>\n",
       "      <td>I be not familiar with xxxx pay and do not und...</td>\n",
       "      <td>xxxx risk consumer chase bank app chase year b...</td>\n",
       "      <td>725</td>\n",
       "      <td>risk consumer chase bank app chase year banki...</td>\n",
       "      <td>Mortgages/loans</td>\n",
       "    </tr>\n",
       "    <tr>\n",
       "      <th>78311</th>\n",
       "      <td>i have had flawless credit for  yrs ive had ch...</td>\n",
       "      <td>I have have flawless credit for   yrs I ve hav...</td>\n",
       "      <td>credit yrs chase credit card chase freedom pro...</td>\n",
       "      <td>553</td>\n",
       "      <td>credit yrs chase credit card chase freedom pro...</td>\n",
       "      <td>Credit card / Prepaid card</td>\n",
       "    </tr>\n",
       "    <tr>\n",
       "      <th>78312</th>\n",
       "      <td>roughly  years ago i closed out my accounts wi...</td>\n",
       "      <td>roughly   year ago I close out my account with...</td>\n",
       "      <td>year account order line credit account payment...</td>\n",
       "      <td>215</td>\n",
       "      <td>year account order line credit account payment...</td>\n",
       "      <td>Others</td>\n",
       "    </tr>\n",
       "  </tbody>\n",
       "</table>\n",
       "<p>21072 rows × 6 columns</p>\n",
       "</div>"
      ],
      "text/plain": [
       "                                               complaint  \\\n",
       "1      good morning my name is xxxx xxxx and i apprec...   \n",
       "2      i upgraded my xxxx xxxx card in  and was told ...   \n",
       "10     chase card was reported on  however fraudulent...   \n",
       "11     on  while trying to book a xxxx  xxxx  ticket ...   \n",
       "14     my grand son give me check for  i deposit it i...   \n",
       "...                                                  ...   \n",
       "78303  after being a chase card customer for well ove...   \n",
       "78309  on wednesday xxxxxxxx i called chas my xxxx xx...   \n",
       "78310  i am not familiar with xxxx pay and did not un...   \n",
       "78311  i have had flawless credit for  yrs ive had ch...   \n",
       "78312  roughly  years ago i closed out my accounts wi...   \n",
       "\n",
       "                                    complaint_lemmatized  \\\n",
       "1      good morning my name be xxxx xxxx and I apprec...   \n",
       "2      I upgrade my xxxx xxxx card in   and be tell b...   \n",
       "10     chase card be report on   however fraudulent a...   \n",
       "11     on   while try to book a xxxx   xxxx   ticket ...   \n",
       "14     my grand son give I check for   I deposit it i...   \n",
       "...                                                  ...   \n",
       "78303  after be a chase card customer for well over a...   \n",
       "78309  on wednesday xxxxxxxx I call chas my xxxx xxxx...   \n",
       "78310  I be not familiar with xxxx pay and do not und...   \n",
       "78311  I have have flawless credit for   yrs I ve hav...   \n",
       "78312  roughly   year ago I close out my account with...   \n",
       "\n",
       "                                   complaint_POS_removed  complaint_length  \\\n",
       "1      morning name stop bank cardmember service ask ...               158   \n",
       "2      xxxx card agent anniversary date agent informa...               110   \n",
       "10     chase card report application identity consent...                80   \n",
       "11     xxxx xxxx ticket offer ticket reward card info...               391   \n",
       "14     son chase account fund chase bank account mone...               162   \n",
       "...                                                  ...               ...   \n",
       "78303  chase card customer decade solicitation credit...               222   \n",
       "78309  xxxx credit card provider claim purchase prote...               669   \n",
       "78310  xxxx risk consumer chase bank app chase year b...               725   \n",
       "78311  credit yrs chase credit card chase freedom pro...               553   \n",
       "78312  year account order line credit account payment...               215   \n",
       "\n",
       "                                         Complaint_clean  \\\n",
       "1      morning name stop bank cardmember service ask ...   \n",
       "2       card agent anniversary date agent information...   \n",
       "10     chase card report application identity consent...   \n",
       "11       ticket offer ticket reward card information ...   \n",
       "14     son chase account fund chase bank account mone...   \n",
       "...                                                  ...   \n",
       "78303  chase card customer decade solicitation credit...   \n",
       "78309   credit card provider claim purchase protectio...   \n",
       "78310   risk consumer chase bank app chase year banki...   \n",
       "78311  credit yrs chase credit card chase freedom pro...   \n",
       "78312  year account order line credit account payment...   \n",
       "\n",
       "                            Topic  \n",
       "1           Bank account services  \n",
       "2      Credit card / Prepaid card  \n",
       "10        Theft/Dispute reporting  \n",
       "11        Theft/Dispute reporting  \n",
       "14          Bank account services  \n",
       "...                           ...  \n",
       "78303  Credit card / Prepaid card  \n",
       "78309             Mortgages/loans  \n",
       "78310             Mortgages/loans  \n",
       "78311  Credit card / Prepaid card  \n",
       "78312                      Others  \n",
       "\n",
       "[21072 rows x 6 columns]"
      ]
     },
     "execution_count": 40,
     "metadata": {},
     "output_type": "execute_result"
    }
   ],
   "source": [
    "df_clean"
   ]
  },
  {
   "cell_type": "code",
   "execution_count": 41,
   "metadata": {},
   "outputs": [
    {
     "data": {
      "text/plain": [
       "(21072, 6)"
      ]
     },
     "execution_count": 41,
     "metadata": {},
     "output_type": "execute_result"
    }
   ],
   "source": [
    "df_clean.shape"
   ]
  },
  {
   "cell_type": "markdown",
   "metadata": {
    "id": "7Mu0QBOcJrGH"
   },
   "source": [
    "## Supervised model to predict any new complaints to the relevant Topics.\n",
    "\n",
    "You have now build the model to create the topics for each complaints.Now in the below section you will use them to classify any new complaints.\n",
    "\n",
    "Since you will be using supervised learning technique we have to convert the topic names to numbers(numpy arrays only understand numbers)"
   ]
  },
  {
   "cell_type": "code",
   "execution_count": 42,
   "metadata": {
    "id": "_U8J3J8wJrGH"
   },
   "outputs": [],
   "source": [
    "#Create the dictionary again of Topic names and Topics\n",
    "\n",
    "Topic_names = {'Credit card / Prepaid card':1,\n",
    "               'Bank account services':0,\n",
    "               'Theft/Dispute reporting':3,\n",
    "               'Mortgages/loans':4,\n",
    "               'Others':2}\n",
    "\n",
    "#Replace Topics with Topic Names\n",
    "df_clean['Topic'] = df_clean['Topic'].map(Topic_names)"
   ]
  },
  {
   "cell_type": "code",
   "execution_count": 43,
   "metadata": {
    "id": "BWIgJUkQJrGH"
   },
   "outputs": [
    {
     "data": {
      "text/html": [
       "<div>\n",
       "<style scoped>\n",
       "    .dataframe tbody tr th:only-of-type {\n",
       "        vertical-align: middle;\n",
       "    }\n",
       "\n",
       "    .dataframe tbody tr th {\n",
       "        vertical-align: top;\n",
       "    }\n",
       "\n",
       "    .dataframe thead th {\n",
       "        text-align: right;\n",
       "    }\n",
       "</style>\n",
       "<table border=\"1\" class=\"dataframe\">\n",
       "  <thead>\n",
       "    <tr style=\"text-align: right;\">\n",
       "      <th></th>\n",
       "      <th>complaint</th>\n",
       "      <th>complaint_lemmatized</th>\n",
       "      <th>complaint_POS_removed</th>\n",
       "      <th>complaint_length</th>\n",
       "      <th>Complaint_clean</th>\n",
       "      <th>Topic</th>\n",
       "    </tr>\n",
       "  </thead>\n",
       "  <tbody>\n",
       "    <tr>\n",
       "      <th>1</th>\n",
       "      <td>good morning my name is xxxx xxxx and i apprec...</td>\n",
       "      <td>good morning my name be xxxx xxxx and I apprec...</td>\n",
       "      <td>morning name stop bank cardmember service ask ...</td>\n",
       "      <td>158</td>\n",
       "      <td>morning name stop bank cardmember service ask ...</td>\n",
       "      <td>0</td>\n",
       "    </tr>\n",
       "    <tr>\n",
       "      <th>2</th>\n",
       "      <td>i upgraded my xxxx xxxx card in  and was told ...</td>\n",
       "      <td>I upgrade my xxxx xxxx card in   and be tell b...</td>\n",
       "      <td>xxxx card agent anniversary date agent informa...</td>\n",
       "      <td>110</td>\n",
       "      <td>card agent anniversary date agent information...</td>\n",
       "      <td>1</td>\n",
       "    </tr>\n",
       "    <tr>\n",
       "      <th>10</th>\n",
       "      <td>chase card was reported on  however fraudulent...</td>\n",
       "      <td>chase card be report on   however fraudulent a...</td>\n",
       "      <td>chase card report application identity consent...</td>\n",
       "      <td>80</td>\n",
       "      <td>chase card report application identity consent...</td>\n",
       "      <td>3</td>\n",
       "    </tr>\n",
       "    <tr>\n",
       "      <th>11</th>\n",
       "      <td>on  while trying to book a xxxx  xxxx  ticket ...</td>\n",
       "      <td>on   while try to book a xxxx   xxxx   ticket ...</td>\n",
       "      <td>xxxx xxxx ticket offer ticket reward card info...</td>\n",
       "      <td>391</td>\n",
       "      <td>ticket offer ticket reward card information ...</td>\n",
       "      <td>3</td>\n",
       "    </tr>\n",
       "    <tr>\n",
       "      <th>14</th>\n",
       "      <td>my grand son give me check for  i deposit it i...</td>\n",
       "      <td>my grand son give I check for   I deposit it i...</td>\n",
       "      <td>son chase account fund chase bank account mone...</td>\n",
       "      <td>162</td>\n",
       "      <td>son chase account fund chase bank account mone...</td>\n",
       "      <td>0</td>\n",
       "    </tr>\n",
       "    <tr>\n",
       "      <th>...</th>\n",
       "      <td>...</td>\n",
       "      <td>...</td>\n",
       "      <td>...</td>\n",
       "      <td>...</td>\n",
       "      <td>...</td>\n",
       "      <td>...</td>\n",
       "    </tr>\n",
       "    <tr>\n",
       "      <th>78303</th>\n",
       "      <td>after being a chase card customer for well ove...</td>\n",
       "      <td>after be a chase card customer for well over a...</td>\n",
       "      <td>chase card customer decade solicitation credit...</td>\n",
       "      <td>222</td>\n",
       "      <td>chase card customer decade solicitation credit...</td>\n",
       "      <td>1</td>\n",
       "    </tr>\n",
       "    <tr>\n",
       "      <th>78309</th>\n",
       "      <td>on wednesday xxxxxxxx i called chas my xxxx xx...</td>\n",
       "      <td>on wednesday xxxxxxxx I call chas my xxxx xxxx...</td>\n",
       "      <td>xxxx credit card provider claim purchase prote...</td>\n",
       "      <td>669</td>\n",
       "      <td>credit card provider claim purchase protectio...</td>\n",
       "      <td>4</td>\n",
       "    </tr>\n",
       "    <tr>\n",
       "      <th>78310</th>\n",
       "      <td>i am not familiar with xxxx pay and did not un...</td>\n",
       "      <td>I be not familiar with xxxx pay and do not und...</td>\n",
       "      <td>xxxx risk consumer chase bank app chase year b...</td>\n",
       "      <td>725</td>\n",
       "      <td>risk consumer chase bank app chase year banki...</td>\n",
       "      <td>4</td>\n",
       "    </tr>\n",
       "    <tr>\n",
       "      <th>78311</th>\n",
       "      <td>i have had flawless credit for  yrs ive had ch...</td>\n",
       "      <td>I have have flawless credit for   yrs I ve hav...</td>\n",
       "      <td>credit yrs chase credit card chase freedom pro...</td>\n",
       "      <td>553</td>\n",
       "      <td>credit yrs chase credit card chase freedom pro...</td>\n",
       "      <td>1</td>\n",
       "    </tr>\n",
       "    <tr>\n",
       "      <th>78312</th>\n",
       "      <td>roughly  years ago i closed out my accounts wi...</td>\n",
       "      <td>roughly   year ago I close out my account with...</td>\n",
       "      <td>year account order line credit account payment...</td>\n",
       "      <td>215</td>\n",
       "      <td>year account order line credit account payment...</td>\n",
       "      <td>2</td>\n",
       "    </tr>\n",
       "  </tbody>\n",
       "</table>\n",
       "<p>21072 rows × 6 columns</p>\n",
       "</div>"
      ],
      "text/plain": [
       "                                               complaint  \\\n",
       "1      good morning my name is xxxx xxxx and i apprec...   \n",
       "2      i upgraded my xxxx xxxx card in  and was told ...   \n",
       "10     chase card was reported on  however fraudulent...   \n",
       "11     on  while trying to book a xxxx  xxxx  ticket ...   \n",
       "14     my grand son give me check for  i deposit it i...   \n",
       "...                                                  ...   \n",
       "78303  after being a chase card customer for well ove...   \n",
       "78309  on wednesday xxxxxxxx i called chas my xxxx xx...   \n",
       "78310  i am not familiar with xxxx pay and did not un...   \n",
       "78311  i have had flawless credit for  yrs ive had ch...   \n",
       "78312  roughly  years ago i closed out my accounts wi...   \n",
       "\n",
       "                                    complaint_lemmatized  \\\n",
       "1      good morning my name be xxxx xxxx and I apprec...   \n",
       "2      I upgrade my xxxx xxxx card in   and be tell b...   \n",
       "10     chase card be report on   however fraudulent a...   \n",
       "11     on   while try to book a xxxx   xxxx   ticket ...   \n",
       "14     my grand son give I check for   I deposit it i...   \n",
       "...                                                  ...   \n",
       "78303  after be a chase card customer for well over a...   \n",
       "78309  on wednesday xxxxxxxx I call chas my xxxx xxxx...   \n",
       "78310  I be not familiar with xxxx pay and do not und...   \n",
       "78311  I have have flawless credit for   yrs I ve hav...   \n",
       "78312  roughly   year ago I close out my account with...   \n",
       "\n",
       "                                   complaint_POS_removed  complaint_length  \\\n",
       "1      morning name stop bank cardmember service ask ...               158   \n",
       "2      xxxx card agent anniversary date agent informa...               110   \n",
       "10     chase card report application identity consent...                80   \n",
       "11     xxxx xxxx ticket offer ticket reward card info...               391   \n",
       "14     son chase account fund chase bank account mone...               162   \n",
       "...                                                  ...               ...   \n",
       "78303  chase card customer decade solicitation credit...               222   \n",
       "78309  xxxx credit card provider claim purchase prote...               669   \n",
       "78310  xxxx risk consumer chase bank app chase year b...               725   \n",
       "78311  credit yrs chase credit card chase freedom pro...               553   \n",
       "78312  year account order line credit account payment...               215   \n",
       "\n",
       "                                         Complaint_clean  Topic  \n",
       "1      morning name stop bank cardmember service ask ...      0  \n",
       "2       card agent anniversary date agent information...      1  \n",
       "10     chase card report application identity consent...      3  \n",
       "11       ticket offer ticket reward card information ...      3  \n",
       "14     son chase account fund chase bank account mone...      0  \n",
       "...                                                  ...    ...  \n",
       "78303  chase card customer decade solicitation credit...      1  \n",
       "78309   credit card provider claim purchase protectio...      4  \n",
       "78310   risk consumer chase bank app chase year banki...      4  \n",
       "78311  credit yrs chase credit card chase freedom pro...      1  \n",
       "78312  year account order line credit account payment...      2  \n",
       "\n",
       "[21072 rows x 6 columns]"
      ]
     },
     "execution_count": 43,
     "metadata": {},
     "output_type": "execute_result"
    }
   ],
   "source": [
    "df_clean"
   ]
  },
  {
   "cell_type": "code",
   "execution_count": 44,
   "metadata": {
    "id": "Xx-FrbkWJrGH"
   },
   "outputs": [],
   "source": [
    "#Keep the columns\"complaint_what_happened\" & \"Topic\" only in the new dataframe --> training_data\n",
    "training_data=df_clean[['complaint','Topic']]"
   ]
  },
  {
   "cell_type": "code",
   "execution_count": 45,
   "metadata": {
    "id": "lVg2pa12JrGI"
   },
   "outputs": [
    {
     "data": {
      "text/html": [
       "<div>\n",
       "<style scoped>\n",
       "    .dataframe tbody tr th:only-of-type {\n",
       "        vertical-align: middle;\n",
       "    }\n",
       "\n",
       "    .dataframe tbody tr th {\n",
       "        vertical-align: top;\n",
       "    }\n",
       "\n",
       "    .dataframe thead th {\n",
       "        text-align: right;\n",
       "    }\n",
       "</style>\n",
       "<table border=\"1\" class=\"dataframe\">\n",
       "  <thead>\n",
       "    <tr style=\"text-align: right;\">\n",
       "      <th></th>\n",
       "      <th>complaint</th>\n",
       "      <th>Topic</th>\n",
       "    </tr>\n",
       "  </thead>\n",
       "  <tbody>\n",
       "    <tr>\n",
       "      <th>1</th>\n",
       "      <td>good morning my name is xxxx xxxx and i apprec...</td>\n",
       "      <td>0</td>\n",
       "    </tr>\n",
       "    <tr>\n",
       "      <th>2</th>\n",
       "      <td>i upgraded my xxxx xxxx card in  and was told ...</td>\n",
       "      <td>1</td>\n",
       "    </tr>\n",
       "    <tr>\n",
       "      <th>10</th>\n",
       "      <td>chase card was reported on  however fraudulent...</td>\n",
       "      <td>3</td>\n",
       "    </tr>\n",
       "    <tr>\n",
       "      <th>11</th>\n",
       "      <td>on  while trying to book a xxxx  xxxx  ticket ...</td>\n",
       "      <td>3</td>\n",
       "    </tr>\n",
       "    <tr>\n",
       "      <th>14</th>\n",
       "      <td>my grand son give me check for  i deposit it i...</td>\n",
       "      <td>0</td>\n",
       "    </tr>\n",
       "    <tr>\n",
       "      <th>...</th>\n",
       "      <td>...</td>\n",
       "      <td>...</td>\n",
       "    </tr>\n",
       "    <tr>\n",
       "      <th>78303</th>\n",
       "      <td>after being a chase card customer for well ove...</td>\n",
       "      <td>1</td>\n",
       "    </tr>\n",
       "    <tr>\n",
       "      <th>78309</th>\n",
       "      <td>on wednesday xxxxxxxx i called chas my xxxx xx...</td>\n",
       "      <td>4</td>\n",
       "    </tr>\n",
       "    <tr>\n",
       "      <th>78310</th>\n",
       "      <td>i am not familiar with xxxx pay and did not un...</td>\n",
       "      <td>4</td>\n",
       "    </tr>\n",
       "    <tr>\n",
       "      <th>78311</th>\n",
       "      <td>i have had flawless credit for  yrs ive had ch...</td>\n",
       "      <td>1</td>\n",
       "    </tr>\n",
       "    <tr>\n",
       "      <th>78312</th>\n",
       "      <td>roughly  years ago i closed out my accounts wi...</td>\n",
       "      <td>2</td>\n",
       "    </tr>\n",
       "  </tbody>\n",
       "</table>\n",
       "<p>21072 rows × 2 columns</p>\n",
       "</div>"
      ],
      "text/plain": [
       "                                               complaint  Topic\n",
       "1      good morning my name is xxxx xxxx and i apprec...      0\n",
       "2      i upgraded my xxxx xxxx card in  and was told ...      1\n",
       "10     chase card was reported on  however fraudulent...      3\n",
       "11     on  while trying to book a xxxx  xxxx  ticket ...      3\n",
       "14     my grand son give me check for  i deposit it i...      0\n",
       "...                                                  ...    ...\n",
       "78303  after being a chase card customer for well ove...      1\n",
       "78309  on wednesday xxxxxxxx i called chas my xxxx xx...      4\n",
       "78310  i am not familiar with xxxx pay and did not un...      4\n",
       "78311  i have had flawless credit for  yrs ive had ch...      1\n",
       "78312  roughly  years ago i closed out my accounts wi...      2\n",
       "\n",
       "[21072 rows x 2 columns]"
      ]
     },
     "execution_count": 45,
     "metadata": {},
     "output_type": "execute_result"
    }
   ],
   "source": [
    "training_data"
   ]
  },
  {
   "cell_type": "markdown",
   "metadata": {
    "id": "280Vbqk-7a8M"
   },
   "source": [
    "####Apply the supervised models on the training data created. In this process, you have to do the following:\n",
    "* Create the vector counts using Count Vectoriser\n",
    "* Transform the word vecotr to tf-idf\n",
    "* Create the train & test data using the train_test_split on the tf-idf & topics\n"
   ]
  },
  {
   "cell_type": "code",
   "execution_count": 46,
   "metadata": {
    "id": "oUlQpgkzJrGI"
   },
   "outputs": [],
   "source": [
    "\n",
    "#Write your code to get the Vector count\n",
    "count_vectorizer = CountVectorizer()\n",
    "count_vectorized_complaints = count_vectorizer.fit_transform(training_data['complaint'])\n",
    "\n",
    "#Write your code here to transform the word vector to tf-idf\n",
    "tfidf_transformer = TfidfTransformer()\n",
    "tfidf_complaints = tfidf_transformer.fit_transform(count_vectorized_complaints)\n"
   ]
  },
  {
   "cell_type": "code",
   "execution_count": 47,
   "metadata": {},
   "outputs": [],
   "source": [
    "# Create test train split\n",
    "X_train, X_test, Y_train, Y_test = train_test_split(tfidf_complaints, training_data['Topic'], test_size=0.25, random_state=99)"
   ]
  },
  {
   "cell_type": "code",
   "execution_count": null,
   "metadata": {},
   "outputs": [],
   "source": []
  },
  {
   "cell_type": "markdown",
   "metadata": {
    "id": "uMU3vj6w-wqL"
   },
   "source": [
    "You have to try atleast 3 models on the train & test data from these options:\n",
    "* Logistic regression\n",
    "* Decision Tree\n",
    "* Random Forest\n",
    "* Naive Bayes (optional)\n",
    "\n",
    "**Using the required evaluation metrics judge the tried models and select the ones performing the best**"
   ]
  },
  {
   "cell_type": "markdown",
   "metadata": {},
   "source": [
    "###### 1. Logistic Regression"
   ]
  },
  {
   "cell_type": "code",
   "execution_count": 48,
   "metadata": {
    "id": "udLHpPsZJrGI"
   },
   "outputs": [
    {
     "name": "stdout",
     "output_type": "stream",
     "text": [
      "Train Accuracy Score= 0.9644393824348266\n",
      "Test Accuracy Score= 0.9176157934700075\n"
     ]
    }
   ],
   "source": [
    "# Write your code here to build any 3 models and evaluate them using the required metrics\n",
    "lr = LogisticRegression()\n",
    "lr.fit(X_train, Y_train)\n",
    "Y_train_pred_lr = lr.predict(X_train)\n",
    "Y_test_pred_lr = lr.predict(X_test)\n",
    "\n",
    "print('Train Accuracy Score=', accuracy_score(Y_train, Y_train_pred_lr))\n",
    "print('Test Accuracy Score=', accuracy_score(Y_test, Y_test_pred_lr))\n"
   ]
  },
  {
   "cell_type": "markdown",
   "metadata": {
    "id": "N2OznsObJrGP"
   },
   "source": [
    "###### 2. Decision Tree"
   ]
  },
  {
   "cell_type": "code",
   "execution_count": 49,
   "metadata": {},
   "outputs": [],
   "source": [
    "dt = DecisionTreeClassifier(random_state = 99)"
   ]
  },
  {
   "cell_type": "code",
   "execution_count": 50,
   "metadata": {},
   "outputs": [
    {
     "name": "stdout",
     "output_type": "stream",
     "text": [
      "Fitting 4 folds for each of 150 candidates, totalling 600 fits\n",
      "Best Score:  0.7487344975955456\n",
      "Best Hyperparameters:  {'max_depth': 10, 'min_samples_leaf': 10, 'min_samples_split': 2}\n"
     ]
    }
   ],
   "source": [
    "params = {\n",
    "    'max_depth': [2, 4, 6, 8, 10],\n",
    "    'min_samples_split': [2, 4, 6, 8, 10],\n",
    "    'min_samples_leaf': [1, 2, 4, 6, 8, 10]\n",
    "}\n",
    "cv = GridSearchCV(dt, param_grid=params, cv=4, scoring='accuracy', n_jobs=-1, verbose=1)\n",
    "cv.fit(X_train, Y_train)\n",
    "print(\"Best Score: \", cv.best_score_)\n",
    "print(\"Best Hyperparameters: \", cv.best_params_)"
   ]
  },
  {
   "cell_type": "code",
   "execution_count": 51,
   "metadata": {},
   "outputs": [
    {
     "name": "stdout",
     "output_type": "stream",
     "text": [
      "Train Accuracy Score= 0.8016957732219692\n",
      "Test Accuracy Score= 0.7665148063781321\n"
     ]
    }
   ],
   "source": [
    "best_dt = cv.best_estimator_\n",
    "Y_train_pred_dt = best_dt.predict(X_train)\n",
    "Y_test_pred_dt = best_dt.predict(X_test)\n",
    "\n",
    "print('Train Accuracy Score=', accuracy_score(Y_train, Y_train_pred_dt))\n",
    "print('Test Accuracy Score=', accuracy_score(Y_test, Y_test_pred_dt))\n"
   ]
  },
  {
   "cell_type": "markdown",
   "metadata": {},
   "source": [
    "###### 3. Random Forest Classifier"
   ]
  },
  {
   "cell_type": "code",
   "execution_count": 52,
   "metadata": {},
   "outputs": [],
   "source": [
    "rfc=RandomForestClassifier(random_state=99)"
   ]
  },
  {
   "cell_type": "code",
   "execution_count": 53,
   "metadata": {},
   "outputs": [
    {
     "name": "stdout",
     "output_type": "stream",
     "text": [
      "n_iterations: 4\n",
      "n_required_iterations: 4\n",
      "n_possible_iterations: 6\n",
      "min_resources_: 40\n",
      "max_resources_: 15804\n",
      "aggressive_elimination: False\n",
      "factor: 3\n",
      "----------\n",
      "iter: 0\n",
      "n_candidates: 45\n",
      "n_resources: 40\n",
      "Fitting 4 folds for each of 45 candidates, totalling 180 fits\n",
      "----------\n",
      "iter: 1\n",
      "n_candidates: 15\n",
      "n_resources: 120\n",
      "Fitting 4 folds for each of 15 candidates, totalling 60 fits\n",
      "----------\n",
      "iter: 2\n",
      "n_candidates: 5\n",
      "n_resources: 360\n",
      "Fitting 4 folds for each of 5 candidates, totalling 20 fits\n",
      "----------\n",
      "iter: 3\n",
      "n_candidates: 2\n",
      "n_resources: 1080\n",
      "Fitting 4 folds for each of 2 candidates, totalling 8 fits\n",
      "Best Score:  0.700925925925926\n",
      "Best Hyperparameters:  {'n_estimators': 200, 'min_samples_leaf': 2, 'max_depth': 20}\n"
     ]
    }
   ],
   "source": [
    "params = {'max_depth': [10,20,50],\n",
    "          'min_samples_leaf': [2,3,5,10,15],\n",
    "          'n_estimators': [100,200,500]\n",
    "}\n",
    "cv = HalvingRandomSearchCV(rfc, param_distributions=params, cv=4, scoring='accuracy', n_jobs=-1, verbose=1)\n",
    "cv.fit(X_train, Y_train)\n",
    "print(\"Best Score: \", cv.best_score_)\n",
    "print(\"Best Hyperparameters: \", cv.best_params_)"
   ]
  },
  {
   "cell_type": "code",
   "execution_count": 54,
   "metadata": {},
   "outputs": [
    {
     "name": "stdout",
     "output_type": "stream",
     "text": [
      "Train Accuracy Score= 0.8016957732219692\n",
      "Test Accuracy Score= 0.7665148063781321\n"
     ]
    }
   ],
   "source": [
    "best_rfc = cv.best_estimator_\n",
    "Y_train_pred_rfc = best_rfc.predict(X_train)\n",
    "Y_test_pred_rfc = best_rfc.predict(X_test)\n",
    "\n",
    "print('Train Accuracy Score=', accuracy_score(Y_train, Y_train_pred_dt))\n",
    "print('Test Accuracy Score=', accuracy_score(Y_test, Y_test_pred_dt))\n"
   ]
  },
  {
   "cell_type": "markdown",
   "metadata": {},
   "source": [
    "| Algorithm | Training Accuracy | Test Accuracy |\n",
    "|:--------:|:--------:|:--------:|\n",
    "|  **Logistic Regression**   |  0.964   |  0.917   |\n",
    "|  **Decision Tree Classifier**  |  0.801   |  0.767   |\n",
    "|  **Random Forest Classifier**   |  0.801  |  0.767   |"
   ]
  },
  {
   "cell_type": "markdown",
   "metadata": {},
   "source": [
    "**Conclusion**: Logistic Regression works best in this case with a training accuracy of 96.4% and a Test Accuracy of 91.7%."
   ]
  },
  {
   "cell_type": "code",
   "execution_count": null,
   "metadata": {},
   "outputs": [],
   "source": []
  }
 ],
 "metadata": {
  "colab": {
   "collapsed_sections": [
    "T9jD_6SeJrF3",
    "5DfCSbbmJrF4",
    "yYzD85nTJrGA",
    "piyLxzj6v07j",
    "280Vbqk-7a8M"
   ],
   "provenance": []
  },
  "kernelspec": {
   "display_name": "Python 3 (ipykernel)",
   "language": "python",
   "name": "python3"
  },
  "language_info": {
   "codemirror_mode": {
    "name": "ipython",
    "version": 3
   },
   "file_extension": ".py",
   "mimetype": "text/x-python",
   "name": "python",
   "nbconvert_exporter": "python",
   "pygments_lexer": "ipython3",
   "version": "3.11.5"
  }
 },
 "nbformat": 4,
 "nbformat_minor": 1
}
